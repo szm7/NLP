{
  "nbformat": 4,
  "nbformat_minor": 0,
  "metadata": {
    "colab": {
      "provenance": []
    },
    "kernelspec": {
      "name": "python3",
      "display_name": "Python 3"
    },
    "language_info": {
      "name": "python"
    }
  },
  "cells": [
    {
      "cell_type": "code",
      "execution_count": 16,
      "metadata": {
        "id": "3TY3bdmZvqaR"
      },
      "outputs": [],
      "source": [
        "import numpy as np\n",
        "import nltk"
      ]
    },
    {
      "cell_type": "code",
      "source": [
        "text = \"Real Madrid, one of the most iconic football clubs in the world, has a rich history 🌟. With a legacy that spans decades, the club boasts an impressive trophy cabinet 🏆. The Santiago Bernabéu Stadium, their hallowed home ground, witnesses epic clashes and unforgettable moments ⚽🏰. Known for their Galácticos era, where the likes of Zidane and Ronaldo dazzled, Real Madrid has solidified its status as a football powerhouse. However, it's important to note that the journey hasn't always been smooth, and they don't always emerge victorious in every match. Despite occasional setbacks, the loyal fans don't waver in their unwavering support. The club's resilience and determination, even in challenging times, make them a formidable force on the pitch. So, whether you're a die-hard supporter or a casual admirer, you can't deny the indomitable spirit that defines Real Madrid's identity ⚪🔵.\""
      ],
      "metadata": {
        "id": "wxOSPt3JMVxD"
      },
      "execution_count": 17,
      "outputs": []
    },
    {
      "cell_type": "code",
      "source": [
        "text = text.lower()"
      ],
      "metadata": {
        "id": "S8Dm3474-7bQ"
      },
      "execution_count": 18,
      "outputs": []
    },
    {
      "cell_type": "code",
      "source": [
        "text"
      ],
      "metadata": {
        "colab": {
          "base_uri": "https://localhost:8080/",
          "height": 120
        },
        "id": "juNVFU3rMj7g",
        "outputId": "4d28dcca-12f5-48e0-9267-95f2786effe3"
      },
      "execution_count": 19,
      "outputs": [
        {
          "output_type": "execute_result",
          "data": {
            "text/plain": [
              "\"real madrid, one of the most iconic football clubs in the world, has a rich history 🌟. with a legacy that spans decades, the club boasts an impressive trophy cabinet 🏆. the santiago bernabéu stadium, their hallowed home ground, witnesses epic clashes and unforgettable moments ⚽🏰. known for their galácticos era, where the likes of zidane and ronaldo dazzled, real madrid has solidified its status as a football powerhouse. however, it's important to note that the journey hasn't always been smooth, and they don't always emerge victorious in every match. despite occasional setbacks, the loyal fans don't waver in their unwavering support. the club's resilience and determination, even in challenging times, make them a formidable force on the pitch. so, whether you're a die-hard supporter or a casual admirer, you can't deny the indomitable spirit that defines real madrid's identity ⚪🔵.\""
            ],
            "application/vnd.google.colaboratory.intrinsic+json": {
              "type": "string"
            }
          },
          "metadata": {},
          "execution_count": 19
        }
      ]
    },
    {
      "cell_type": "markdown",
      "source": [
        "#Tokenization\n",
        "Tokenization is the process of dividing a text into smaller units known as tokens. Tokens are typically words or sub-words in the context of natural language processing. Tokenization is a critical step in many NLP."
      ],
      "metadata": {
        "id": "bjBIhZrCO20W"
      }
    },
    {
      "cell_type": "markdown",
      "source": [
        "#**Word Tokenization**"
      ],
      "metadata": {
        "id": "4ZC0RZhaPiou"
      }
    },
    {
      "cell_type": "code",
      "source": [
        "import nltk\n",
        "nltk.download('punkt')\n",
        "from nltk.tokenize import word_tokenize\n",
        "words = word_tokenize(text)\n",
        "print(words)"
      ],
      "metadata": {
        "colab": {
          "base_uri": "https://localhost:8080/"
        },
        "id": "_ODHESH7MoXU",
        "outputId": "5d809416-b4ab-4c90-f64b-8a219df6e628"
      },
      "execution_count": 20,
      "outputs": [
        {
          "output_type": "stream",
          "name": "stdout",
          "text": [
            "['real', 'madrid', ',', 'one', 'of', 'the', 'most', 'iconic', 'football', 'clubs', 'in', 'the', 'world', ',', 'has', 'a', 'rich', 'history', '🌟', '.', 'with', 'a', 'legacy', 'that', 'spans', 'decades', ',', 'the', 'club', 'boasts', 'an', 'impressive', 'trophy', 'cabinet', '🏆', '.', 'the', 'santiago', 'bernabéu', 'stadium', ',', 'their', 'hallowed', 'home', 'ground', ',', 'witnesses', 'epic', 'clashes', 'and', 'unforgettable', 'moments', '⚽🏰', '.', 'known', 'for', 'their', 'galácticos', 'era', ',', 'where', 'the', 'likes', 'of', 'zidane', 'and', 'ronaldo', 'dazzled', ',', 'real', 'madrid', 'has', 'solidified', 'its', 'status', 'as', 'a', 'football', 'powerhouse', '.', 'however', ',', 'it', \"'s\", 'important', 'to', 'note', 'that', 'the', 'journey', 'has', \"n't\", 'always', 'been', 'smooth', ',', 'and', 'they', 'do', \"n't\", 'always', 'emerge', 'victorious', 'in', 'every', 'match', '.', 'despite', 'occasional', 'setbacks', ',', 'the', 'loyal', 'fans', 'do', \"n't\", 'waver', 'in', 'their', 'unwavering', 'support', '.', 'the', 'club', \"'s\", 'resilience', 'and', 'determination', ',', 'even', 'in', 'challenging', 'times', ',', 'make', 'them', 'a', 'formidable', 'force', 'on', 'the', 'pitch', '.', 'so', ',', 'whether', 'you', \"'re\", 'a', 'die-hard', 'supporter', 'or', 'a', 'casual', 'admirer', ',', 'you', 'ca', \"n't\", 'deny', 'the', 'indomitable', 'spirit', 'that', 'defines', 'real', 'madrid', \"'s\", 'identity', '⚪🔵', '.']\n"
          ]
        },
        {
          "output_type": "stream",
          "name": "stderr",
          "text": [
            "[nltk_data] Downloading package punkt to /root/nltk_data...\n",
            "[nltk_data]   Package punkt is already up-to-date!\n"
          ]
        }
      ]
    },
    {
      "cell_type": "markdown",
      "source": [
        "#**Sentence Tokenization**"
      ],
      "metadata": {
        "id": "itga4Bi2PlQ-"
      }
    },
    {
      "cell_type": "code",
      "source": [
        "from nltk.tokenize import sent_tokenize\n",
        "\n",
        "sentence = sent_tokenize(text)\n",
        "print(sentence)"
      ],
      "metadata": {
        "colab": {
          "base_uri": "https://localhost:8080/"
        },
        "id": "OPK6ZW6-Pq2B",
        "outputId": "8662278b-3749-4f4d-c76b-45e93fb07161"
      },
      "execution_count": 21,
      "outputs": [
        {
          "output_type": "stream",
          "name": "stdout",
          "text": [
            "['real madrid, one of the most iconic football clubs in the world, has a rich history 🌟.', 'with a legacy that spans decades, the club boasts an impressive trophy cabinet 🏆.', 'the santiago bernabéu stadium, their hallowed home ground, witnesses epic clashes and unforgettable moments ⚽🏰.', 'known for their galácticos era, where the likes of zidane and ronaldo dazzled, real madrid has solidified its status as a football powerhouse.', \"however, it's important to note that the journey hasn't always been smooth, and they don't always emerge victorious in every match.\", \"despite occasional setbacks, the loyal fans don't waver in their unwavering support.\", \"the club's resilience and determination, even in challenging times, make them a formidable force on the pitch.\", \"so, whether you're a die-hard supporter or a casual admirer, you can't deny the indomitable spirit that defines real madrid's identity ⚪🔵.\"]\n"
          ]
        }
      ]
    },
    {
      "cell_type": "markdown",
      "source": [
        "#**Punctuation Tokenizer**"
      ],
      "metadata": {
        "id": "oq3zYrUhP31u"
      }
    },
    {
      "cell_type": "code",
      "source": [
        "from nltk.tokenize import WordPunctTokenizer\n",
        "punct_tokenizer = WordPunctTokenizer()\n",
        "punc_toc = punct_tokenizer.tokenize(text)\n",
        "print(punc_toc)"
      ],
      "metadata": {
        "colab": {
          "base_uri": "https://localhost:8080/"
        },
        "id": "lkqZhnOK_3Cu",
        "outputId": "1cd9dd5f-e297-4aa5-9ca2-578aede7f184"
      },
      "execution_count": 28,
      "outputs": [
        {
          "output_type": "stream",
          "name": "stdout",
          "text": [
            "['real', 'madrid', ',', 'one', 'of', 'the', 'most', 'iconic', 'football', 'clubs', 'in', 'the', 'world', ',', 'has', 'a', 'rich', 'history', '🌟.', 'with', 'a', 'legacy', 'that', 'spans', 'decades', ',', 'the', 'club', 'boasts', 'an', 'impressive', 'trophy', 'cabinet', '🏆.', 'the', 'santiago', 'bernabéu', 'stadium', ',', 'their', 'hallowed', 'home', 'ground', ',', 'witnesses', 'epic', 'clashes', 'and', 'unforgettable', 'moments', '⚽🏰.', 'known', 'for', 'their', 'galácticos', 'era', ',', 'where', 'the', 'likes', 'of', 'zidane', 'and', 'ronaldo', 'dazzled', ',', 'real', 'madrid', 'has', 'solidified', 'its', 'status', 'as', 'a', 'football', 'powerhouse', '.', 'however', ',', 'it', \"'\", 's', 'important', 'to', 'note', 'that', 'the', 'journey', 'hasn', \"'\", 't', 'always', 'been', 'smooth', ',', 'and', 'they', 'don', \"'\", 't', 'always', 'emerge', 'victorious', 'in', 'every', 'match', '.', 'despite', 'occasional', 'setbacks', ',', 'the', 'loyal', 'fans', 'don', \"'\", 't', 'waver', 'in', 'their', 'unwavering', 'support', '.', 'the', 'club', \"'\", 's', 'resilience', 'and', 'determination', ',', 'even', 'in', 'challenging', 'times', ',', 'make', 'them', 'a', 'formidable', 'force', 'on', 'the', 'pitch', '.', 'so', ',', 'whether', 'you', \"'\", 're', 'a', 'die', '-', 'hard', 'supporter', 'or', 'a', 'casual', 'admirer', ',', 'you', 'can', \"'\", 't', 'deny', 'the', 'indomitable', 'spirit', 'that', 'defines', 'real', 'madrid', \"'\", 's', 'identity', '⚪🔵.']\n"
          ]
        }
      ]
    },
    {
      "cell_type": "markdown",
      "source": [
        "#**Treebank Tokenizor**"
      ],
      "metadata": {
        "id": "jDFwncVmy436"
      }
    },
    {
      "cell_type": "code",
      "source": [
        "from nltk.tokenize import TreebankWordTokenizer\n",
        "tokenizer = TreebankWordTokenizer()\n",
        "print(tokenizer.tokenize(text))"
      ],
      "metadata": {
        "colab": {
          "base_uri": "https://localhost:8080/"
        },
        "id": "j_SAzhwVRgP2",
        "outputId": "ff6ff257-2fb4-4809-8f29-8addfbf377ad"
      },
      "execution_count": 23,
      "outputs": [
        {
          "output_type": "stream",
          "name": "stdout",
          "text": [
            "['real', 'madrid', ',', 'one', 'of', 'the', 'most', 'iconic', 'football', 'clubs', 'in', 'the', 'world', ',', 'has', 'a', 'rich', 'history', '🌟.', 'with', 'a', 'legacy', 'that', 'spans', 'decades', ',', 'the', 'club', 'boasts', 'an', 'impressive', 'trophy', 'cabinet', '🏆.', 'the', 'santiago', 'bernabéu', 'stadium', ',', 'their', 'hallowed', 'home', 'ground', ',', 'witnesses', 'epic', 'clashes', 'and', 'unforgettable', 'moments', '⚽🏰.', 'known', 'for', 'their', 'galácticos', 'era', ',', 'where', 'the', 'likes', 'of', 'zidane', 'and', 'ronaldo', 'dazzled', ',', 'real', 'madrid', 'has', 'solidified', 'its', 'status', 'as', 'a', 'football', 'powerhouse.', 'however', ',', 'it', \"'s\", 'important', 'to', 'note', 'that', 'the', 'journey', 'has', \"n't\", 'always', 'been', 'smooth', ',', 'and', 'they', 'do', \"n't\", 'always', 'emerge', 'victorious', 'in', 'every', 'match.', 'despite', 'occasional', 'setbacks', ',', 'the', 'loyal', 'fans', 'do', \"n't\", 'waver', 'in', 'their', 'unwavering', 'support.', 'the', 'club', \"'s\", 'resilience', 'and', 'determination', ',', 'even', 'in', 'challenging', 'times', ',', 'make', 'them', 'a', 'formidable', 'force', 'on', 'the', 'pitch.', 'so', ',', 'whether', 'you', \"'re\", 'a', 'die-hard', 'supporter', 'or', 'a', 'casual', 'admirer', ',', 'you', 'ca', \"n't\", 'deny', 'the', 'indomitable', 'spirit', 'that', 'defines', 'real', 'madrid', \"'s\", 'identity', '⚪🔵', '.']\n"
          ]
        }
      ]
    },
    {
      "cell_type": "markdown",
      "source": [
        "#**Tweet Tokenizer**"
      ],
      "metadata": {
        "id": "3kIlFpf3yxHU"
      }
    },
    {
      "cell_type": "code",
      "source": [
        "from nltk.tokenize import TweetTokenizer\n",
        "\n",
        "tk = TweetTokenizer()\n",
        "geek = tk.tokenize(text)\n",
        "\n",
        "print(geek)"
      ],
      "metadata": {
        "colab": {
          "base_uri": "https://localhost:8080/"
        },
        "id": "shbegKhzTBZn",
        "outputId": "e98a00f4-88c2-460a-bb0a-5d25695c0da3"
      },
      "execution_count": 24,
      "outputs": [
        {
          "output_type": "stream",
          "name": "stdout",
          "text": [
            "['real', 'madrid', ',', 'one', 'of', 'the', 'most', 'iconic', 'football', 'clubs', 'in', 'the', 'world', ',', 'has', 'a', 'rich', 'history', '🌟', '.', 'with', 'a', 'legacy', 'that', 'spans', 'decades', ',', 'the', 'club', 'boasts', 'an', 'impressive', 'trophy', 'cabinet', '🏆', '.', 'the', 'santiago', 'bernabéu', 'stadium', ',', 'their', 'hallowed', 'home', 'ground', ',', 'witnesses', 'epic', 'clashes', 'and', 'unforgettable', 'moments', '⚽', '🏰', '.', 'known', 'for', 'their', 'galácticos', 'era', ',', 'where', 'the', 'likes', 'of', 'zidane', 'and', 'ronaldo', 'dazzled', ',', 'real', 'madrid', 'has', 'solidified', 'its', 'status', 'as', 'a', 'football', 'powerhouse', '.', 'however', ',', \"it's\", 'important', 'to', 'note', 'that', 'the', 'journey', \"hasn't\", 'always', 'been', 'smooth', ',', 'and', 'they', \"don't\", 'always', 'emerge', 'victorious', 'in', 'every', 'match', '.', 'despite', 'occasional', 'setbacks', ',', 'the', 'loyal', 'fans', \"don't\", 'waver', 'in', 'their', 'unwavering', 'support', '.', 'the', \"club's\", 'resilience', 'and', 'determination', ',', 'even', 'in', 'challenging', 'times', ',', 'make', 'them', 'a', 'formidable', 'force', 'on', 'the', 'pitch', '.', 'so', ',', 'whether', \"you're\", 'a', 'die-hard', 'supporter', 'or', 'a', 'casual', 'admirer', ',', 'you', \"can't\", 'deny', 'the', 'indomitable', 'spirit', 'that', 'defines', 'real', \"madrid's\", 'identity', '⚪', '🔵', '.']\n"
          ]
        }
      ]
    },
    {
      "cell_type": "markdown",
      "source": [
        "#**Multi Word Tokenizer**"
      ],
      "metadata": {
        "id": "O4L5AI0dA0Gy"
      }
    },
    {
      "cell_type": "code",
      "source": [
        "from nltk.tokenize import MWETokenizer\n",
        "mwe_tokenizer = MWETokenizer([('real', 'madrid')], separator='_')\n",
        "mwe_tokens = mwe_tokenizer.tokenize(word_tokenize(text))\n",
        "print(mwe_tokens)"
      ],
      "metadata": {
        "colab": {
          "base_uri": "https://localhost:8080/"
        },
        "id": "bn4NCsM2AheE",
        "outputId": "b69e31ce-4374-4dcc-b0a2-0a0a243767a3"
      },
      "execution_count": 29,
      "outputs": [
        {
          "output_type": "stream",
          "name": "stdout",
          "text": [
            "['real_madrid', ',', 'one', 'of', 'the', 'most', 'iconic', 'football', 'clubs', 'in', 'the', 'world', ',', 'has', 'a', 'rich', 'history', '🌟', '.', 'with', 'a', 'legacy', 'that', 'spans', 'decades', ',', 'the', 'club', 'boasts', 'an', 'impressive', 'trophy', 'cabinet', '🏆', '.', 'the', 'santiago', 'bernabéu', 'stadium', ',', 'their', 'hallowed', 'home', 'ground', ',', 'witnesses', 'epic', 'clashes', 'and', 'unforgettable', 'moments', '⚽🏰', '.', 'known', 'for', 'their', 'galácticos', 'era', ',', 'where', 'the', 'likes', 'of', 'zidane', 'and', 'ronaldo', 'dazzled', ',', 'real_madrid', 'has', 'solidified', 'its', 'status', 'as', 'a', 'football', 'powerhouse', '.', 'however', ',', 'it', \"'s\", 'important', 'to', 'note', 'that', 'the', 'journey', 'has', \"n't\", 'always', 'been', 'smooth', ',', 'and', 'they', 'do', \"n't\", 'always', 'emerge', 'victorious', 'in', 'every', 'match', '.', 'despite', 'occasional', 'setbacks', ',', 'the', 'loyal', 'fans', 'do', \"n't\", 'waver', 'in', 'their', 'unwavering', 'support', '.', 'the', 'club', \"'s\", 'resilience', 'and', 'determination', ',', 'even', 'in', 'challenging', 'times', ',', 'make', 'them', 'a', 'formidable', 'force', 'on', 'the', 'pitch', '.', 'so', ',', 'whether', 'you', \"'re\", 'a', 'die-hard', 'supporter', 'or', 'a', 'casual', 'admirer', ',', 'you', 'ca', \"n't\", 'deny', 'the', 'indomitable', 'spirit', 'that', 'defines', 'real_madrid', \"'s\", 'identity', '⚪🔵', '.']\n"
          ]
        }
      ]
    },
    {
      "cell_type": "markdown",
      "source": [
        "#**TextBlob Tokenization**"
      ],
      "metadata": {
        "id": "4WxEkf9hyq_H"
      }
    },
    {
      "cell_type": "code",
      "source": [
        "from textblob import TextBlob\n",
        "\n",
        "tb = TextBlob(text)\n",
        "\n",
        "print(\" Word : \", tb.words)\n",
        "print(\" Sentence : \", tb.sentences)\n"
      ],
      "metadata": {
        "colab": {
          "base_uri": "https://localhost:8080/"
        },
        "id": "TWEPxN6KUERo",
        "outputId": "6a7a6c26-437f-42a4-b57b-025bb41b3b2d"
      },
      "execution_count": 25,
      "outputs": [
        {
          "output_type": "stream",
          "name": "stdout",
          "text": [
            " Word :  ['real', 'madrid', 'one', 'of', 'the', 'most', 'iconic', 'football', 'clubs', 'in', 'the', 'world', 'has', 'a', 'rich', 'history', '🌟', 'with', 'a', 'legacy', 'that', 'spans', 'decades', 'the', 'club', 'boasts', 'an', 'impressive', 'trophy', 'cabinet', '🏆', 'the', 'santiago', 'bernabéu', 'stadium', 'their', 'hallowed', 'home', 'ground', 'witnesses', 'epic', 'clashes', 'and', 'unforgettable', 'moments', '⚽🏰', 'known', 'for', 'their', 'galácticos', 'era', 'where', 'the', 'likes', 'of', 'zidane', 'and', 'ronaldo', 'dazzled', 'real', 'madrid', 'has', 'solidified', 'its', 'status', 'as', 'a', 'football', 'powerhouse', 'however', 'it', \"'s\", 'important', 'to', 'note', 'that', 'the', 'journey', 'has', \"n't\", 'always', 'been', 'smooth', 'and', 'they', 'do', \"n't\", 'always', 'emerge', 'victorious', 'in', 'every', 'match', 'despite', 'occasional', 'setbacks', 'the', 'loyal', 'fans', 'do', \"n't\", 'waver', 'in', 'their', 'unwavering', 'support', 'the', 'club', \"'s\", 'resilience', 'and', 'determination', 'even', 'in', 'challenging', 'times', 'make', 'them', 'a', 'formidable', 'force', 'on', 'the', 'pitch', 'so', 'whether', 'you', \"'re\", 'a', 'die-hard', 'supporter', 'or', 'a', 'casual', 'admirer', 'you', 'ca', \"n't\", 'deny', 'the', 'indomitable', 'spirit', 'that', 'defines', 'real', 'madrid', \"'s\", 'identity', '⚪🔵']\n",
            " Sentence :  [Sentence(\"real madrid, one of the most iconic football clubs in the world, has a rich history 🌟.\"), Sentence(\"with a legacy that spans decades, the club boasts an impressive trophy cabinet 🏆.\"), Sentence(\"the santiago bernabéu stadium, their hallowed home ground, witnesses epic clashes and unforgettable moments ⚽🏰.\"), Sentence(\"known for their galácticos era, where the likes of zidane and ronaldo dazzled, real madrid has solidified its status as a football powerhouse.\"), Sentence(\"however, it's important to note that the journey hasn't always been smooth, and they don't always emerge victorious in every match.\"), Sentence(\"despite occasional setbacks, the loyal fans don't waver in their unwavering support.\"), Sentence(\"the club's resilience and determination, even in challenging times, make them a formidable force on the pitch.\"), Sentence(\"so, whether you're a die-hard supporter or a casual admirer, you can't deny the indomitable spirit that defines real madrid's identity ⚪🔵.\")]\n"
          ]
        }
      ]
    },
    {
      "cell_type": "markdown",
      "source": [
        "#**Spacy Tokenization**"
      ],
      "metadata": {
        "id": "gR4jdGgwylB2"
      }
    },
    {
      "cell_type": "code",
      "source": [
        "import spacy\n",
        "\n",
        "\n",
        "nlp = spacy.load(\"en_core_web_sm\")\n",
        "data = nlp(text)\n",
        "tokens = [token.text for token in data]\n",
        "print(tokens)"
      ],
      "metadata": {
        "colab": {
          "base_uri": "https://localhost:8080/"
        },
        "id": "lGkxsc64UlgB",
        "outputId": "ed8f378e-d4b2-439e-b5ac-e2e36ed1f685"
      },
      "execution_count": 26,
      "outputs": [
        {
          "output_type": "stream",
          "name": "stdout",
          "text": [
            "['real', 'madrid', ',', 'one', 'of', 'the', 'most', 'iconic', 'football', 'clubs', 'in', 'the', 'world', ',', 'has', 'a', 'rich', 'history', '🌟', '.', 'with', 'a', 'legacy', 'that', 'spans', 'decades', ',', 'the', 'club', 'boasts', 'an', 'impressive', 'trophy', 'cabinet', '🏆', '.', 'the', 'santiago', 'bernabéu', 'stadium', ',', 'their', 'hallowed', 'home', 'ground', ',', 'witnesses', 'epic', 'clashes', 'and', 'unforgettable', 'moments', '⚽', '🏰', '.', 'known', 'for', 'their', 'galácticos', 'era', ',', 'where', 'the', 'likes', 'of', 'zidane', 'and', 'ronaldo', 'dazzled', ',', 'real', 'madrid', 'has', 'solidified', 'its', 'status', 'as', 'a', 'football', 'powerhouse', '.', 'however', ',', 'it', \"'s\", 'important', 'to', 'note', 'that', 'the', 'journey', 'has', \"n't\", 'always', 'been', 'smooth', ',', 'and', 'they', 'do', \"n't\", 'always', 'emerge', 'victorious', 'in', 'every', 'match', '.', 'despite', 'occasional', 'setbacks', ',', 'the', 'loyal', 'fans', 'do', \"n't\", 'waver', 'in', 'their', 'unwavering', 'support', '.', 'the', 'club', \"'s\", 'resilience', 'and', 'determination', ',', 'even', 'in', 'challenging', 'times', ',', 'make', 'them', 'a', 'formidable', 'force', 'on', 'the', 'pitch', '.', 'so', ',', 'whether', 'you', \"'re\", 'a', 'die', '-', 'hard', 'supporter', 'or', 'a', 'casual', 'admirer', ',', 'you', 'ca', \"n't\", 'deny', 'the', 'indomitable', 'spirit', 'that', 'defines', 'real', 'madrid', \"'s\", 'identity', '⚪', '🔵', '.']\n"
          ]
        }
      ]
    },
    {
      "cell_type": "markdown",
      "source": [
        "#**Gensium Tokenizer**"
      ],
      "metadata": {
        "id": "mnVtTC0kBAkM"
      }
    },
    {
      "cell_type": "code",
      "source": [
        "from gensim.utils import tokenize\n",
        "gensim_tokens = list(tokenize(text))\n",
        "print(gensim_tokens)"
      ],
      "metadata": {
        "colab": {
          "base_uri": "https://localhost:8080/"
        },
        "id": "8kZTuM7HBIh1",
        "outputId": "f4b098ad-9d3c-4a8f-e038-e3bf5cccf107"
      },
      "execution_count": 30,
      "outputs": [
        {
          "output_type": "stream",
          "name": "stdout",
          "text": [
            "['real', 'madrid', 'one', 'of', 'the', 'most', 'iconic', 'football', 'clubs', 'in', 'the', 'world', 'has', 'a', 'rich', 'history', 'with', 'a', 'legacy', 'that', 'spans', 'decades', 'the', 'club', 'boasts', 'an', 'impressive', 'trophy', 'cabinet', 'the', 'santiago', 'bernabéu', 'stadium', 'their', 'hallowed', 'home', 'ground', 'witnesses', 'epic', 'clashes', 'and', 'unforgettable', 'moments', 'known', 'for', 'their', 'galácticos', 'era', 'where', 'the', 'likes', 'of', 'zidane', 'and', 'ronaldo', 'dazzled', 'real', 'madrid', 'has', 'solidified', 'its', 'status', 'as', 'a', 'football', 'powerhouse', 'however', 'it', 's', 'important', 'to', 'note', 'that', 'the', 'journey', 'hasn', 't', 'always', 'been', 'smooth', 'and', 'they', 'don', 't', 'always', 'emerge', 'victorious', 'in', 'every', 'match', 'despite', 'occasional', 'setbacks', 'the', 'loyal', 'fans', 'don', 't', 'waver', 'in', 'their', 'unwavering', 'support', 'the', 'club', 's', 'resilience', 'and', 'determination', 'even', 'in', 'challenging', 'times', 'make', 'them', 'a', 'formidable', 'force', 'on', 'the', 'pitch', 'so', 'whether', 'you', 're', 'a', 'die', 'hard', 'supporter', 'or', 'a', 'casual', 'admirer', 'you', 'can', 't', 'deny', 'the', 'indomitable', 'spirit', 'that', 'defines', 'real', 'madrid', 's', 'identity']\n"
          ]
        }
      ]
    },
    {
      "cell_type": "markdown",
      "source": [
        "#**Keras Tokenization**"
      ],
      "metadata": {
        "id": "_8YG1tuEyfPS"
      }
    },
    {
      "cell_type": "code",
      "source": [
        "from keras.preprocessing.text import text_to_word_sequence\n",
        "keras_tokens = text_to_word_sequence(text)\n",
        "print(keras_tokens)\n"
      ],
      "metadata": {
        "colab": {
          "base_uri": "https://localhost:8080/"
        },
        "id": "oc0bQSFPXQcn",
        "outputId": "5ee9235d-8c61-4b42-f680-a44ee0e508c7"
      },
      "execution_count": 32,
      "outputs": [
        {
          "output_type": "stream",
          "name": "stdout",
          "text": [
            "['real', 'madrid', 'one', 'of', 'the', 'most', 'iconic', 'football', 'clubs', 'in', 'the', 'world', 'has', 'a', 'rich', 'history', '🌟', 'with', 'a', 'legacy', 'that', 'spans', 'decades', 'the', 'club', 'boasts', 'an', 'impressive', 'trophy', 'cabinet', '🏆', 'the', 'santiago', 'bernabéu', 'stadium', 'their', 'hallowed', 'home', 'ground', 'witnesses', 'epic', 'clashes', 'and', 'unforgettable', 'moments', '⚽🏰', 'known', 'for', 'their', 'galácticos', 'era', 'where', 'the', 'likes', 'of', 'zidane', 'and', 'ronaldo', 'dazzled', 'real', 'madrid', 'has', 'solidified', 'its', 'status', 'as', 'a', 'football', 'powerhouse', 'however', \"it's\", 'important', 'to', 'note', 'that', 'the', 'journey', \"hasn't\", 'always', 'been', 'smooth', 'and', 'they', \"don't\", 'always', 'emerge', 'victorious', 'in', 'every', 'match', 'despite', 'occasional', 'setbacks', 'the', 'loyal', 'fans', \"don't\", 'waver', 'in', 'their', 'unwavering', 'support', 'the', \"club's\", 'resilience', 'and', 'determination', 'even', 'in', 'challenging', 'times', 'make', 'them', 'a', 'formidable', 'force', 'on', 'the', 'pitch', 'so', 'whether', \"you're\", 'a', 'die', 'hard', 'supporter', 'or', 'a', 'casual', 'admirer', 'you', \"can't\", 'deny', 'the', 'indomitable', 'spirit', 'that', 'defines', 'real', \"madrid's\", 'identity', '⚪🔵']\n"
          ]
        }
      ]
    },
    {
      "cell_type": "markdown",
      "source": [
        "**Word Tokenization:**\n",
        "  Word tokenization is the process of breaking down a text into individual words or tokens.\n",
        "\n",
        "**Sentence Tokenization:**\n",
        " Sentence tokenization involves splitting a text into individual sentences.\n",
        "\n",
        "**Punctuation-based Tokenizer:**\n",
        "Tokenization based on punctuation involves breaking a text into tokens using punctuation marks as separators.\n",
        "\n",
        "**Treebank Word Tokenizer:**\n",
        "Treebank Word Tokenizer is a tokenization method following the Penn Treebank Tokenization guidelines. It handles contractions and punctuation.\n",
        "\n",
        "**Tweet Tokenizer:**\n",
        " Tweet Tokenizer is specifically designed to handle tokenization in tweets, considering hashtags, mentions, and emoticons.\n",
        "\n",
        "**Multi-Word Expression Tokenizer:**\n",
        " Tokenization that focuses on identifying and tokenizing multi-word expressions, capturing phrases rather than individual words.\n",
        "\n",
        "**TextBlob Word Tokenize:**\n",
        "Tokenization using the `word_tokenize` method provided by the TextBlob library, which is built on NLTK.\n",
        "\n",
        " **spaCy Tokenizer:**\n",
        " Tokenization using the spaCy library, which provides a comprehensive tokenizer along with other NLP functionalities.\n",
        "\n",
        " **Gensim Word Tokenizer:**\n",
        " Gensim itself doesn't have a specific word tokenizer, but it's commonly used with external tokenization libraries like NLTK or SpaCy."
      ],
      "metadata": {
        "id": "n4xAmtW_Bxfu"
      }
    }
  ]
}