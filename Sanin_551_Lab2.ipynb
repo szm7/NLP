{
  "nbformat": 4,
  "nbformat_minor": 0,
  "metadata": {
    "colab": {
      "provenance": []
    },
    "kernelspec": {
      "name": "python3",
      "display_name": "Python 3"
    },
    "language_info": {
      "name": "python"
    }
  },
  "cells": [
    {
      "cell_type": "code",
      "execution_count": 121,
      "metadata": {
        "id": "uKlqvC-4FG2j"
      },
      "outputs": [],
      "source": [
        "import numpy as np\n",
        "import pandas as pd"
      ]
    },
    {
      "cell_type": "code",
      "source": [
        "text = \"\"\"Real Madrid, one of the most illustrious football clubs globally, has left an indelible mark on the sport's history. Established on 6-03-1902, the club has witnessed triumphs and challenges alike. Over the years, Real Madrid has evolved into a powerhouse, dominating the football landscape. The team's iconic victories in the UEFA Champions League on 28/05/2016, and the La Liga title on  23/04/2017, showcase their prowess. However, it's crucial to acknowledge the setbacks too; Real Madrid experienced a tough period on  13-08-2000, when they faced a significant defeat. Nevertheless, the resilient spirit of the club, encapsulated in the phrase \"Don't ever underestimate Real Madrid,\" reflects their determination to bounce back. For enthusiasts seeking to connect with the club, the official email, info@realmadrid.com, and phone number +919876563789 , +9187456785 serve as gateways to the Real Madrid community.\"\"\""
      ],
      "metadata": {
        "id": "DhbyoDw6GH3l"
      },
      "execution_count": 122,
      "outputs": []
    },
    {
      "cell_type": "code",
      "source": [
        "text"
      ],
      "metadata": {
        "colab": {
          "base_uri": "https://localhost:8080/",
          "height": 120
        },
        "id": "xZHzETKNGcJP",
        "outputId": "1a6b6f2d-1d5a-4e22-f114-bac4ef23430c"
      },
      "execution_count": 123,
      "outputs": [
        {
          "output_type": "execute_result",
          "data": {
            "text/plain": [
              "'Real Madrid, one of the most illustrious football clubs globally, has left an indelible mark on the sport\\'s history. Established on 6-03-1902, the club has witnessed triumphs and challenges alike. Over the years, Real Madrid has evolved into a powerhouse, dominating the football landscape. The team\\'s iconic victories in the UEFA Champions League on 28/05/2016, and the La Liga title on  23/04/2017, showcase their prowess. However, it\\'s crucial to acknowledge the setbacks too; Real Madrid experienced a tough period on  13-08-2000, when they faced a significant defeat. Nevertheless, the resilient spirit of the club, encapsulated in the phrase \"Don\\'t ever underestimate Real Madrid,\" reflects their determination to bounce back. For enthusiasts seeking to connect with the club, the official email, info@realmadrid.com, and phone number +919876563789 , +9187456785 serve as gateways to the Real Madrid community.'"
            ],
            "application/vnd.google.colaboratory.intrinsic+json": {
              "type": "string"
            }
          },
          "metadata": {},
          "execution_count": 123
        }
      ]
    },
    {
      "cell_type": "markdown",
      "source": [
        "a. Count the number of unique tokens in the text."
      ],
      "metadata": {
        "id": "9_QpuOg7GrOW"
      }
    },
    {
      "cell_type": "code",
      "source": [
        "import nltk\n",
        "nltk.download('punkt')\n",
        "from nltk.tokenize import word_tokenize\n",
        "\n",
        "tk = word_tokenize(text)\n",
        "print(len(tk))"
      ],
      "metadata": {
        "colab": {
          "base_uri": "https://localhost:8080/"
        },
        "id": "o2PrbkSqGmHy",
        "outputId": "cf8c58fb-a8d7-48a3-9885-d2f30d9805fd"
      },
      "execution_count": 124,
      "outputs": [
        {
          "output_type": "stream",
          "name": "stdout",
          "text": [
            "166\n"
          ]
        },
        {
          "output_type": "stream",
          "name": "stderr",
          "text": [
            "[nltk_data] Downloading package punkt to /root/nltk_data...\n",
            "[nltk_data]   Package punkt is already up-to-date!\n"
          ]
        }
      ]
    },
    {
      "cell_type": "code",
      "source": [
        "print(pd.unique(tk))\n",
        "print(len((pd.unique(tk))))"
      ],
      "metadata": {
        "colab": {
          "base_uri": "https://localhost:8080/"
        },
        "id": "ZlNy3-wMGMsw",
        "outputId": "5a7ee161-4b15-421c-a558-5d844ac6cc99"
      },
      "execution_count": 125,
      "outputs": [
        {
          "output_type": "stream",
          "name": "stdout",
          "text": [
            "['Real' 'Madrid' ',' 'one' 'of' 'the' 'most' 'illustrious' 'football'\n",
            " 'clubs' 'globally' 'has' 'left' 'an' 'indelible' 'mark' 'on' 'sport' \"'s\"\n",
            " 'history' '.' 'Established' '6-03-1902' 'club' 'witnessed' 'triumphs'\n",
            " 'and' 'challenges' 'alike' 'Over' 'years' 'evolved' 'into' 'a'\n",
            " 'powerhouse' 'dominating' 'landscape' 'The' 'team' 'iconic' 'victories'\n",
            " 'in' 'UEFA' 'Champions' 'League' '28/05/2016' 'La' 'Liga' 'title'\n",
            " '23/04/2017' 'showcase' 'their' 'prowess' 'However' 'it' 'crucial' 'to'\n",
            " 'acknowledge' 'setbacks' 'too' ';' 'experienced' 'tough' 'period'\n",
            " '13-08-2000' 'when' 'they' 'faced' 'significant' 'defeat' 'Nevertheless'\n",
            " 'resilient' 'spirit' 'encapsulated' 'phrase' '``' 'Do' \"n't\" 'ever'\n",
            " 'underestimate' \"''\" 'reflects' 'determination' 'bounce' 'back' 'For'\n",
            " 'enthusiasts' 'seeking' 'connect' 'with' 'official' 'email' 'info' '@'\n",
            " 'realmadrid.com' 'phone' 'number' '+919876563789' '+9187456785' 'serve'\n",
            " 'as' 'gateways' 'community']\n",
            "103\n"
          ]
        }
      ]
    },
    {
      "cell_type": "code",
      "source": [
        "tk"
      ],
      "metadata": {
        "colab": {
          "base_uri": "https://localhost:8080/"
        },
        "id": "u-gnTcrDR1_M",
        "outputId": "6de2d213-9cfe-4e4a-d557-72ab19e4d78a"
      },
      "execution_count": 126,
      "outputs": [
        {
          "output_type": "execute_result",
          "data": {
            "text/plain": [
              "['Real',\n",
              " 'Madrid',\n",
              " ',',\n",
              " 'one',\n",
              " 'of',\n",
              " 'the',\n",
              " 'most',\n",
              " 'illustrious',\n",
              " 'football',\n",
              " 'clubs',\n",
              " 'globally',\n",
              " ',',\n",
              " 'has',\n",
              " 'left',\n",
              " 'an',\n",
              " 'indelible',\n",
              " 'mark',\n",
              " 'on',\n",
              " 'the',\n",
              " 'sport',\n",
              " \"'s\",\n",
              " 'history',\n",
              " '.',\n",
              " 'Established',\n",
              " 'on',\n",
              " '6-03-1902',\n",
              " ',',\n",
              " 'the',\n",
              " 'club',\n",
              " 'has',\n",
              " 'witnessed',\n",
              " 'triumphs',\n",
              " 'and',\n",
              " 'challenges',\n",
              " 'alike',\n",
              " '.',\n",
              " 'Over',\n",
              " 'the',\n",
              " 'years',\n",
              " ',',\n",
              " 'Real',\n",
              " 'Madrid',\n",
              " 'has',\n",
              " 'evolved',\n",
              " 'into',\n",
              " 'a',\n",
              " 'powerhouse',\n",
              " ',',\n",
              " 'dominating',\n",
              " 'the',\n",
              " 'football',\n",
              " 'landscape',\n",
              " '.',\n",
              " 'The',\n",
              " 'team',\n",
              " \"'s\",\n",
              " 'iconic',\n",
              " 'victories',\n",
              " 'in',\n",
              " 'the',\n",
              " 'UEFA',\n",
              " 'Champions',\n",
              " 'League',\n",
              " 'on',\n",
              " '28/05/2016',\n",
              " ',',\n",
              " 'and',\n",
              " 'the',\n",
              " 'La',\n",
              " 'Liga',\n",
              " 'title',\n",
              " 'on',\n",
              " '23/04/2017',\n",
              " ',',\n",
              " 'showcase',\n",
              " 'their',\n",
              " 'prowess',\n",
              " '.',\n",
              " 'However',\n",
              " ',',\n",
              " 'it',\n",
              " \"'s\",\n",
              " 'crucial',\n",
              " 'to',\n",
              " 'acknowledge',\n",
              " 'the',\n",
              " 'setbacks',\n",
              " 'too',\n",
              " ';',\n",
              " 'Real',\n",
              " 'Madrid',\n",
              " 'experienced',\n",
              " 'a',\n",
              " 'tough',\n",
              " 'period',\n",
              " 'on',\n",
              " '13-08-2000',\n",
              " ',',\n",
              " 'when',\n",
              " 'they',\n",
              " 'faced',\n",
              " 'a',\n",
              " 'significant',\n",
              " 'defeat',\n",
              " '.',\n",
              " 'Nevertheless',\n",
              " ',',\n",
              " 'the',\n",
              " 'resilient',\n",
              " 'spirit',\n",
              " 'of',\n",
              " 'the',\n",
              " 'club',\n",
              " ',',\n",
              " 'encapsulated',\n",
              " 'in',\n",
              " 'the',\n",
              " 'phrase',\n",
              " '``',\n",
              " 'Do',\n",
              " \"n't\",\n",
              " 'ever',\n",
              " 'underestimate',\n",
              " 'Real',\n",
              " 'Madrid',\n",
              " ',',\n",
              " \"''\",\n",
              " 'reflects',\n",
              " 'their',\n",
              " 'determination',\n",
              " 'to',\n",
              " 'bounce',\n",
              " 'back',\n",
              " '.',\n",
              " 'For',\n",
              " 'enthusiasts',\n",
              " 'seeking',\n",
              " 'to',\n",
              " 'connect',\n",
              " 'with',\n",
              " 'the',\n",
              " 'club',\n",
              " ',',\n",
              " 'the',\n",
              " 'official',\n",
              " 'email',\n",
              " ',',\n",
              " 'info',\n",
              " '@',\n",
              " 'realmadrid.com',\n",
              " ',',\n",
              " 'and',\n",
              " 'phone',\n",
              " 'number',\n",
              " '+919876563789',\n",
              " ',',\n",
              " '+9187456785',\n",
              " 'serve',\n",
              " 'as',\n",
              " 'gateways',\n",
              " 'to',\n",
              " 'the',\n",
              " 'Real',\n",
              " 'Madrid',\n",
              " 'community',\n",
              " '.']"
            ]
          },
          "metadata": {},
          "execution_count": 126
        }
      ]
    },
    {
      "cell_type": "markdown",
      "source": [
        "b. Count the number of punctuation characters and remove punctuations."
      ],
      "metadata": {
        "id": "-rhhofNrGvAi"
      }
    },
    {
      "cell_type": "code",
      "source": [
        "from string import punctuation\n",
        "\n",
        "count = 0\n",
        "filtered_tk = []\n",
        "for i in tk:\n",
        "    if i in punctuation:\n",
        "        count += 1\n",
        "    else:\n",
        "        filtered_tk.append(i)\n",
        "print(filtered_tk)\n",
        "print(count)"
      ],
      "metadata": {
        "id": "kkY-O4tZHRlT",
        "colab": {
          "base_uri": "https://localhost:8080/"
        },
        "outputId": "095ae5e8-38a7-4a5d-d830-181e83893d0b"
      },
      "execution_count": 127,
      "outputs": [
        {
          "output_type": "stream",
          "name": "stdout",
          "text": [
            "['Real', 'Madrid', 'one', 'of', 'the', 'most', 'illustrious', 'football', 'clubs', 'globally', 'has', 'left', 'an', 'indelible', 'mark', 'on', 'the', 'sport', \"'s\", 'history', 'Established', 'on', '6-03-1902', 'the', 'club', 'has', 'witnessed', 'triumphs', 'and', 'challenges', 'alike', 'Over', 'the', 'years', 'Real', 'Madrid', 'has', 'evolved', 'into', 'a', 'powerhouse', 'dominating', 'the', 'football', 'landscape', 'The', 'team', \"'s\", 'iconic', 'victories', 'in', 'the', 'UEFA', 'Champions', 'League', 'on', '28/05/2016', 'and', 'the', 'La', 'Liga', 'title', 'on', '23/04/2017', 'showcase', 'their', 'prowess', 'However', 'it', \"'s\", 'crucial', 'to', 'acknowledge', 'the', 'setbacks', 'too', 'Real', 'Madrid', 'experienced', 'a', 'tough', 'period', 'on', '13-08-2000', 'when', 'they', 'faced', 'a', 'significant', 'defeat', 'Nevertheless', 'the', 'resilient', 'spirit', 'of', 'the', 'club', 'encapsulated', 'in', 'the', 'phrase', '``', 'Do', \"n't\", 'ever', 'underestimate', 'Real', 'Madrid', \"''\", 'reflects', 'their', 'determination', 'to', 'bounce', 'back', 'For', 'enthusiasts', 'seeking', 'to', 'connect', 'with', 'the', 'club', 'the', 'official', 'email', 'info', 'realmadrid.com', 'and', 'phone', 'number', '+919876563789', '+9187456785', 'serve', 'as', 'gateways', 'to', 'the', 'Real', 'Madrid', 'community']\n",
            "25\n"
          ]
        }
      ]
    },
    {
      "cell_type": "markdown",
      "source": [
        "c. Plot the distribution of stopwords used in the text using barplot."
      ],
      "metadata": {
        "id": "5l8RMTk-G3uC"
      }
    },
    {
      "cell_type": "code",
      "source": [
        "nltk.download('stopwords')\n",
        "from nltk.corpus import stopwords\n",
        "\n",
        "stop_words = set(stopwords.words(\"english\"))\n",
        "ts=[]\n",
        "for i in filtered_tk:\n",
        "  if i in stop_words:\n",
        "    ts.append(i)"
      ],
      "metadata": {
        "id": "S6JEePqMIDjL",
        "colab": {
          "base_uri": "https://localhost:8080/"
        },
        "outputId": "3489e037-4a68-477e-a45a-db00608c8ab2"
      },
      "execution_count": 128,
      "outputs": [
        {
          "output_type": "stream",
          "name": "stderr",
          "text": [
            "[nltk_data] Downloading package stopwords to /root/nltk_data...\n",
            "[nltk_data]   Package stopwords is already up-to-date!\n"
          ]
        }
      ]
    },
    {
      "cell_type": "code",
      "source": [
        "ts"
      ],
      "metadata": {
        "colab": {
          "base_uri": "https://localhost:8080/"
        },
        "id": "6mpuUJC7KW1M",
        "outputId": "a8ed2afb-5bdf-4049-db2b-b16437741d40"
      },
      "execution_count": 129,
      "outputs": [
        {
          "output_type": "execute_result",
          "data": {
            "text/plain": [
              "['of',\n",
              " 'the',\n",
              " 'most',\n",
              " 'has',\n",
              " 'an',\n",
              " 'on',\n",
              " 'the',\n",
              " 'on',\n",
              " 'the',\n",
              " 'has',\n",
              " 'and',\n",
              " 'the',\n",
              " 'has',\n",
              " 'into',\n",
              " 'a',\n",
              " 'the',\n",
              " 'in',\n",
              " 'the',\n",
              " 'on',\n",
              " 'and',\n",
              " 'the',\n",
              " 'on',\n",
              " 'their',\n",
              " 'it',\n",
              " 'to',\n",
              " 'the',\n",
              " 'too',\n",
              " 'a',\n",
              " 'on',\n",
              " 'when',\n",
              " 'they',\n",
              " 'a',\n",
              " 'the',\n",
              " 'of',\n",
              " 'the',\n",
              " 'in',\n",
              " 'the',\n",
              " 'their',\n",
              " 'to',\n",
              " 'to',\n",
              " 'with',\n",
              " 'the',\n",
              " 'the',\n",
              " 'and',\n",
              " 'as',\n",
              " 'to',\n",
              " 'the']"
            ]
          },
          "metadata": {},
          "execution_count": 129
        }
      ]
    },
    {
      "cell_type": "code",
      "source": [
        "import matplotlib.pyplot as plt\n",
        "from collections import Counter\n",
        "\n",
        "counts = Counter(ts)\n",
        "\n",
        "words = list(counts.keys())\n",
        "frequencies = list(counts.values())\n",
        "\n",
        "plt.figure(figsize=(15,12))\n",
        "plt.bar(words, frequencies)\n",
        "plt.xlabel('stopwords')\n",
        "plt.ylabel('counts')\n",
        "plt.title('stopwords count')\n",
        "\n",
        "plt.show()"
      ],
      "metadata": {
        "colab": {
          "base_uri": "https://localhost:8080/",
          "height": 1000
        },
        "id": "-4Wsu4qUKn3S",
        "outputId": "05ed3d57-910c-4182-dd9c-b2e4b68a6ba1"
      },
      "execution_count": 130,
      "outputs": [
        {
          "output_type": "display_data",
          "data": {
            "text/plain": [
              "<Figure size 1500x1200 with 1 Axes>"
            ],
            "image/png": "[encoded data removed]"
          },
          "metadata": {}
        }
      ]
    },
    {
      "cell_type": "markdown",
      "source": [
        "d. Remove the stopwords from the text."
      ],
      "metadata": {
        "id": "Adzrsz5cHW1F"
      }
    },
    {
      "cell_type": "code",
      "source": [
        "from nltk.corpus import stopwords\n",
        "\n",
        "stop_words = set(stopwords.words(\"english\"))\n",
        "\n",
        "newfl = []\n",
        "for i in filtered_tk:\n",
        "  if not i in stop_words:\n",
        "    newfl.append(i)"
      ],
      "metadata": {
        "id": "CoAVMo_cHTiJ"
      },
      "execution_count": 131,
      "outputs": []
    },
    {
      "cell_type": "code",
      "source": [
        "print(len(newfl))"
      ],
      "metadata": {
        "colab": {
          "base_uri": "https://localhost:8080/"
        },
        "id": "eyBWITvULjSq",
        "outputId": "6adff823-ddc6-4710-8b6a-979908abc5b0"
      },
      "execution_count": 132,
      "outputs": [
        {
          "output_type": "stream",
          "name": "stdout",
          "text": [
            "94\n"
          ]
        }
      ]
    },
    {
      "cell_type": "code",
      "source": [
        "print(newfl)"
      ],
      "metadata": {
        "colab": {
          "base_uri": "https://localhost:8080/"
        },
        "id": "tUk8u6UzRkAW",
        "outputId": "424b561b-6357-4ef9-e8fd-fef18a54dac6"
      },
      "execution_count": 133,
      "outputs": [
        {
          "output_type": "stream",
          "name": "stdout",
          "text": [
            "['Real', 'Madrid', 'one', 'illustrious', 'football', 'clubs', 'globally', 'left', 'indelible', 'mark', 'sport', \"'s\", 'history', 'Established', '6-03-1902', 'club', 'witnessed', 'triumphs', 'challenges', 'alike', 'Over', 'years', 'Real', 'Madrid', 'evolved', 'powerhouse', 'dominating', 'football', 'landscape', 'The', 'team', \"'s\", 'iconic', 'victories', 'UEFA', 'Champions', 'League', '28/05/2016', 'La', 'Liga', 'title', '23/04/2017', 'showcase', 'prowess', 'However', \"'s\", 'crucial', 'acknowledge', 'setbacks', 'Real', 'Madrid', 'experienced', 'tough', 'period', '13-08-2000', 'faced', 'significant', 'defeat', 'Nevertheless', 'resilient', 'spirit', 'club', 'encapsulated', 'phrase', '``', 'Do', \"n't\", 'ever', 'underestimate', 'Real', 'Madrid', \"''\", 'reflects', 'determination', 'bounce', 'back', 'For', 'enthusiasts', 'seeking', 'connect', 'club', 'official', 'email', 'info', 'realmadrid.com', 'phone', 'number', '+919876563789', '+9187456785', 'serve', 'gateways', 'Real', 'Madrid', 'community']\n"
          ]
        }
      ]
    },
    {
      "cell_type": "markdown",
      "source": [
        "e. Plot the distribution of each POS Tag using a barplot."
      ],
      "metadata": {
        "id": "ghjMljd9HYEg"
      }
    },
    {
      "cell_type": "code",
      "source": [
        "import nltk\n",
        "nltk.download('averaged_perceptron_tagger')\n",
        "from nltk import pos_tag\n",
        "pos = pos_tag(newfl)\n",
        "print(pos)"
      ],
      "metadata": {
        "colab": {
          "base_uri": "https://localhost:8080/"
        },
        "id": "DMovnzJvtjpu",
        "outputId": "88c57d5b-0d64-4cf5-c586-1c02ba1beac0"
      },
      "execution_count": 134,
      "outputs": [
        {
          "output_type": "stream",
          "name": "stdout",
          "text": [
            "[('Real', 'JJ'), ('Madrid', 'NNP'), ('one', 'CD'), ('illustrious', 'JJ'), ('football', 'NN'), ('clubs', 'NNS'), ('globally', 'RB'), ('left', 'VBD'), ('indelible', 'JJ'), ('mark', 'NN'), ('sport', 'NN'), (\"'s\", 'POS'), ('history', 'NN'), ('Established', 'VBD'), ('6-03-1902', 'JJ'), ('club', 'NN'), ('witnessed', 'VBD'), ('triumphs', 'JJ'), ('challenges', 'NNS'), ('alike', 'RB'), ('Over', 'IN'), ('years', 'NNS'), ('Real', 'JJ'), ('Madrid', 'NNP'), ('evolved', 'VBD'), ('powerhouse', 'IN'), ('dominating', 'VBG'), ('football', 'NN'), ('landscape', 'NN'), ('The', 'DT'), ('team', 'NN'), (\"'s\", 'POS'), ('iconic', 'JJ'), ('victories', 'NNS'), ('UEFA', 'NNP'), ('Champions', 'NNP'), ('League', 'NNP'), ('28/05/2016', 'CD'), ('La', 'NNP'), ('Liga', 'NNP'), ('title', 'NN'), ('23/04/2017', 'CD'), ('showcase', 'NN'), ('prowess', 'NN'), ('However', 'RB'), (\"'s\", 'POS'), ('crucial', 'JJ'), ('acknowledge', 'NN'), ('setbacks', 'NNS'), ('Real', 'NNP'), ('Madrid', 'NNP'), ('experienced', 'VBD'), ('tough', 'JJ'), ('period', 'NN'), ('13-08-2000', 'CD'), ('faced', 'JJ'), ('significant', 'JJ'), ('defeat', 'NN'), ('Nevertheless', 'NNP'), ('resilient', 'NN'), ('spirit', 'NN'), ('club', 'NN'), ('encapsulated', 'VBD'), ('phrase', 'NN'), ('``', '``'), ('Do', 'VBP'), (\"n't\", 'RB'), ('ever', 'RB'), ('underestimate', 'JJ'), ('Real', 'NNP'), ('Madrid', 'NNP'), (\"''\", \"''\"), ('reflects', 'VBZ'), ('determination', 'NN'), ('bounce', 'NN'), ('back', 'RB'), ('For', 'IN'), ('enthusiasts', 'NNS'), ('seeking', 'VBG'), ('connect', 'NN'), ('club', 'NN'), ('official', 'NN'), ('email', 'NN'), ('info', 'NN'), ('realmadrid.com', 'NN'), ('phone', 'NN'), ('number', 'NN'), ('+919876563789', 'NNP'), ('+9187456785', 'NNP'), ('serve', 'VBP'), ('gateways', 'NNS'), ('Real', 'NNP'), ('Madrid', 'NNP'), ('community', 'NN')]\n"
          ]
        },
        {
          "output_type": "stream",
          "name": "stderr",
          "text": [
            "[nltk_data] Downloading package averaged_perceptron_tagger to\n",
            "[nltk_data]     /root/nltk_data...\n",
            "[nltk_data]   Package averaged_perceptron_tagger is already up-to-\n",
            "[nltk_data]       date!\n"
          ]
        }
      ]
    },
    {
      "cell_type": "code",
      "source": [
        "import matplotlib.pyplot as plt\n",
        "from collections import Counter\n",
        "pos_tag_counts = Counter(tag[1] for tag in pos)\n",
        "\n",
        "# Extract POS tag labels and counts for plotting\n",
        "labels, counts = zip(*pos_tag_counts.items())\n",
        "\n",
        "# Plotting the distribution\n",
        "plt.figure(figsize=(13,10))\n",
        "plt.bar(labels, counts, color='blue')\n",
        "plt.title('POS Tag Distribution')\n",
        "plt.xlabel('POS Tags')\n",
        "plt.ylabel('Frequency')\n",
        "plt.show()"
      ],
      "metadata": {
        "colab": {
          "base_uri": "https://localhost:8080/",
          "height": 872
        },
        "id": "rjbGruSgu3o8",
        "outputId": "070f8dcc-1bfb-4ee3-cd78-d0c519955044"
      },
      "execution_count": 135,
      "outputs": [
        {
          "output_type": "display_data",
          "data": {
            "text/plain": [
              "<Figure size 1300x1000 with 1 Axes>"
            ],
            "image/png": "[encoded data removed]"
          },
          "metadata": {}
        }
      ]
    },
    {
      "cell_type": "markdown",
      "source": [
        "f. Determine the number of unique lemma available in the text."
      ],
      "metadata": {
        "id": "5olVey3hHdUJ"
      }
    },
    {
      "cell_type": "code",
      "source": [
        "from nltk.stem import WordNetLemmatizer\n",
        "nltk.download('wordnet')\n",
        "\n",
        "lemmatizer = WordNetLemmatizer()\n",
        "lemmas = [lemmatizer.lemmatize(word) for word in newfl]\n",
        "print(lemmas)"
      ],
      "metadata": {
        "colab": {
          "base_uri": "https://localhost:8080/"
        },
        "id": "VliDGL9YOxDO",
        "outputId": "2357bb27-6a0c-443a-ac4d-02994492403e"
      },
      "execution_count": 136,
      "outputs": [
        {
          "output_type": "stream",
          "name": "stdout",
          "text": [
            "['Real', 'Madrid', 'one', 'illustrious', 'football', 'club', 'globally', 'left', 'indelible', 'mark', 'sport', \"'s\", 'history', 'Established', '6-03-1902', 'club', 'witnessed', 'triumph', 'challenge', 'alike', 'Over', 'year', 'Real', 'Madrid', 'evolved', 'powerhouse', 'dominating', 'football', 'landscape', 'The', 'team', \"'s\", 'iconic', 'victory', 'UEFA', 'Champions', 'League', '28/05/2016', 'La', 'Liga', 'title', '23/04/2017', 'showcase', 'prowess', 'However', \"'s\", 'crucial', 'acknowledge', 'setback', 'Real', 'Madrid', 'experienced', 'tough', 'period', '13-08-2000', 'faced', 'significant', 'defeat', 'Nevertheless', 'resilient', 'spirit', 'club', 'encapsulated', 'phrase', '``', 'Do', \"n't\", 'ever', 'underestimate', 'Real', 'Madrid', \"''\", 'reflects', 'determination', 'bounce', 'back', 'For', 'enthusiast', 'seeking', 'connect', 'club', 'official', 'email', 'info', 'realmadrid.com', 'phone', 'number', '+919876563789', '+9187456785', 'serve', 'gateway', 'Real', 'Madrid', 'community']\n"
          ]
        },
        {
          "output_type": "stream",
          "name": "stderr",
          "text": [
            "[nltk_data] Downloading package wordnet to /root/nltk_data...\n",
            "[nltk_data]   Package wordnet is already up-to-date!\n"
          ]
        }
      ]
    },
    {
      "cell_type": "markdown",
      "source": [
        "g. Plot the frequency distribution of words in the text. Display only the top 10\n",
        "(most occurring) tokens in the chart."
      ],
      "metadata": {
        "id": "kjGAzrg8Hg07"
      }
    },
    {
      "cell_type": "code",
      "source": [
        "freq = nltk.FreqDist(newfl)\n",
        "\n",
        "top10=freq.most_common(10)\n",
        "print(top10)"
      ],
      "metadata": {
        "colab": {
          "base_uri": "https://localhost:8080/"
        },
        "id": "MStYh8I_PJbG",
        "outputId": "18947418-1420-4ab0-ab3a-956c4f1e8521"
      },
      "execution_count": 137,
      "outputs": [
        {
          "output_type": "stream",
          "name": "stdout",
          "text": [
            "[('Real', 5), ('Madrid', 5), (\"'s\", 3), ('club', 3), ('football', 2), ('one', 1), ('illustrious', 1), ('clubs', 1), ('globally', 1), ('left', 1)]\n"
          ]
        }
      ]
    },
    {
      "cell_type": "code",
      "source": [
        "word,count = Counter(zip(*top10))\n",
        "\n",
        "plt.figure(figsize=(15,8))\n",
        "plt.xlabel(\"Words\")\n",
        "plt.ylabel(\"Count\")\n",
        "plt.bar(word,count)\n",
        "plt.show()"
      ],
      "metadata": {
        "colab": {
          "base_uri": "https://localhost:8080/",
          "height": 696
        },
        "id": "8UmXZ_nXPhkZ",
        "outputId": "b50feb43-daea-4c67-f170-a316e5d6a700"
      },
      "execution_count": 138,
      "outputs": [
        {
          "output_type": "display_data",
          "data": {
            "text/plain": [
              "<Figure size 1500x800 with 1 Axes>"
            ],
            "image/png": "[encoded data removed]"
          },
          "metadata": {}
        }
      ]
    },
    {
      "cell_type": "markdown",
      "source": [
        "h. Find the number of unique bigrams, trigrams and quadgrams (n=4) in the corpus"
      ],
      "metadata": {
        "id": "do4zM4Z9HkOo"
      }
    },
    {
      "cell_type": "code",
      "source": [
        "from nltk import ngrams\n",
        "\n",
        "def grams(n):\n",
        "  ng = ngrams(newfl,n)\n",
        "\n",
        "\n",
        "  for ngram in ng:\n",
        "      print(ngram)\n",
        "\n",
        "print(\"Bi Grams\")\n",
        "grams(2)\n",
        "print(\"Tri Grams\")\n",
        "grams(3)\n",
        "print(\"Quad Grams\")\n",
        "grams(4)"
      ],
      "metadata": {
        "colab": {
          "base_uri": "https://localhost:8080/"
        },
        "id": "dSMu6xhZQlQ5",
        "outputId": "48e0f080-3c68-4bd8-d7a8-e0e0eb5cf356"
      },
      "execution_count": 139,
      "outputs": [
        {
          "output_type": "stream",
          "name": "stdout",
          "text": [
            "Bi Grams\n",
            "('Real', 'Madrid')\n",
            "('Madrid', 'one')\n",
            "('one', 'illustrious')\n",
            "('illustrious', 'football')\n",
            "('football', 'clubs')\n",
            "('clubs', 'globally')\n",
            "('globally', 'left')\n",
            "('left', 'indelible')\n",
            "('indelible', 'mark')\n",
            "('mark', 'sport')\n",
            "('sport', \"'s\")\n",
            "(\"'s\", 'history')\n",
            "('history', 'Established')\n",
            "('Established', '6-03-1902')\n",
            "('6-03-1902', 'club')\n",
            "('club', 'witnessed')\n",
            "('witnessed', 'triumphs')\n",
            "('triumphs', 'challenges')\n",
            "('challenges', 'alike')\n",
            "('alike', 'Over')\n",
            "('Over', 'years')\n",
            "('years', 'Real')\n",
            "('Real', 'Madrid')\n",
            "('Madrid', 'evolved')\n",
            "('evolved', 'powerhouse')\n",
            "('powerhouse', 'dominating')\n",
            "('dominating', 'football')\n",
            "('football', 'landscape')\n",
            "('landscape', 'The')\n",
            "('The', 'team')\n",
            "('team', \"'s\")\n",
            "(\"'s\", 'iconic')\n",
            "('iconic', 'victories')\n",
            "('victories', 'UEFA')\n",
            "('UEFA', 'Champions')\n",
            "('Champions', 'League')\n",
            "('League', '28/05/2016')\n",
            "('28/05/2016', 'La')\n",
            "('La', 'Liga')\n",
            "('Liga', 'title')\n",
            "('title', '23/04/2017')\n",
            "('23/04/2017', 'showcase')\n",
            "('showcase', 'prowess')\n",
            "('prowess', 'However')\n",
            "('However', \"'s\")\n",
            "(\"'s\", 'crucial')\n",
            "('crucial', 'acknowledge')\n",
            "('acknowledge', 'setbacks')\n",
            "('setbacks', 'Real')\n",
            "('Real', 'Madrid')\n",
            "('Madrid', 'experienced')\n",
            "('experienced', 'tough')\n",
            "('tough', 'period')\n",
            "('period', '13-08-2000')\n",
            "('13-08-2000', 'faced')\n",
            "('faced', 'significant')\n",
            "('significant', 'defeat')\n",
            "('defeat', 'Nevertheless')\n",
            "('Nevertheless', 'resilient')\n",
            "('resilient', 'spirit')\n",
            "('spirit', 'club')\n",
            "('club', 'encapsulated')\n",
            "('encapsulated', 'phrase')\n",
            "('phrase', '``')\n",
            "('``', 'Do')\n",
            "('Do', \"n't\")\n",
            "(\"n't\", 'ever')\n",
            "('ever', 'underestimate')\n",
            "('underestimate', 'Real')\n",
            "('Real', 'Madrid')\n",
            "('Madrid', \"''\")\n",
            "(\"''\", 'reflects')\n",
            "('reflects', 'determination')\n",
            "('determination', 'bounce')\n",
            "('bounce', 'back')\n",
            "('back', 'For')\n",
            "('For', 'enthusiasts')\n",
            "('enthusiasts', 'seeking')\n",
            "('seeking', 'connect')\n",
            "('connect', 'club')\n",
            "('club', 'official')\n",
            "('official', 'email')\n",
            "('email', 'info')\n",
            "('info', 'realmadrid.com')\n",
            "('realmadrid.com', 'phone')\n",
            "('phone', 'number')\n",
            "('number', '+919876563789')\n",
            "('+919876563789', '+9187456785')\n",
            "('+9187456785', 'serve')\n",
            "('serve', 'gateways')\n",
            "('gateways', 'Real')\n",
            "('Real', 'Madrid')\n",
            "('Madrid', 'community')\n",
            "Tri Grams\n",
            "('Real', 'Madrid', 'one')\n",
            "('Madrid', 'one', 'illustrious')\n",
            "('one', 'illustrious', 'football')\n",
            "('illustrious', 'football', 'clubs')\n",
            "('football', 'clubs', 'globally')\n",
            "('clubs', 'globally', 'left')\n",
            "('globally', 'left', 'indelible')\n",
            "('left', 'indelible', 'mark')\n",
            "('indelible', 'mark', 'sport')\n",
            "('mark', 'sport', \"'s\")\n",
            "('sport', \"'s\", 'history')\n",
            "(\"'s\", 'history', 'Established')\n",
            "('history', 'Established', '6-03-1902')\n",
            "('Established', '6-03-1902', 'club')\n",
            "('6-03-1902', 'club', 'witnessed')\n",
            "('club', 'witnessed', 'triumphs')\n",
            "('witnessed', 'triumphs', 'challenges')\n",
            "('triumphs', 'challenges', 'alike')\n",
            "('challenges', 'alike', 'Over')\n",
            "('alike', 'Over', 'years')\n",
            "('Over', 'years', 'Real')\n",
            "('years', 'Real', 'Madrid')\n",
            "('Real', 'Madrid', 'evolved')\n",
            "('Madrid', 'evolved', 'powerhouse')\n",
            "('evolved', 'powerhouse', 'dominating')\n",
            "('powerhouse', 'dominating', 'football')\n",
            "('dominating', 'football', 'landscape')\n",
            "('football', 'landscape', 'The')\n",
            "('landscape', 'The', 'team')\n",
            "('The', 'team', \"'s\")\n",
            "('team', \"'s\", 'iconic')\n",
            "(\"'s\", 'iconic', 'victories')\n",
            "('iconic', 'victories', 'UEFA')\n",
            "('victories', 'UEFA', 'Champions')\n",
            "('UEFA', 'Champions', 'League')\n",
            "('Champions', 'League', '28/05/2016')\n",
            "('League', '28/05/2016', 'La')\n",
            "('28/05/2016', 'La', 'Liga')\n",
            "('La', 'Liga', 'title')\n",
            "('Liga', 'title', '23/04/2017')\n",
            "('title', '23/04/2017', 'showcase')\n",
            "('23/04/2017', 'showcase', 'prowess')\n",
            "('showcase', 'prowess', 'However')\n",
            "('prowess', 'However', \"'s\")\n",
            "('However', \"'s\", 'crucial')\n",
            "(\"'s\", 'crucial', 'acknowledge')\n",
            "('crucial', 'acknowledge', 'setbacks')\n",
            "('acknowledge', 'setbacks', 'Real')\n",
            "('setbacks', 'Real', 'Madrid')\n",
            "('Real', 'Madrid', 'experienced')\n",
            "('Madrid', 'experienced', 'tough')\n",
            "('experienced', 'tough', 'period')\n",
            "('tough', 'period', '13-08-2000')\n",
            "('period', '13-08-2000', 'faced')\n",
            "('13-08-2000', 'faced', 'significant')\n",
            "('faced', 'significant', 'defeat')\n",
            "('significant', 'defeat', 'Nevertheless')\n",
            "('defeat', 'Nevertheless', 'resilient')\n",
            "('Nevertheless', 'resilient', 'spirit')\n",
            "('resilient', 'spirit', 'club')\n",
            "('spirit', 'club', 'encapsulated')\n",
            "('club', 'encapsulated', 'phrase')\n",
            "('encapsulated', 'phrase', '``')\n",
            "('phrase', '``', 'Do')\n",
            "('``', 'Do', \"n't\")\n",
            "('Do', \"n't\", 'ever')\n",
            "(\"n't\", 'ever', 'underestimate')\n",
            "('ever', 'underestimate', 'Real')\n",
            "('underestimate', 'Real', 'Madrid')\n",
            "('Real', 'Madrid', \"''\")\n",
            "('Madrid', \"''\", 'reflects')\n",
            "(\"''\", 'reflects', 'determination')\n",
            "('reflects', 'determination', 'bounce')\n",
            "('determination', 'bounce', 'back')\n",
            "('bounce', 'back', 'For')\n",
            "('back', 'For', 'enthusiasts')\n",
            "('For', 'enthusiasts', 'seeking')\n",
            "('enthusiasts', 'seeking', 'connect')\n",
            "('seeking', 'connect', 'club')\n",
            "('connect', 'club', 'official')\n",
            "('club', 'official', 'email')\n",
            "('official', 'email', 'info')\n",
            "('email', 'info', 'realmadrid.com')\n",
            "('info', 'realmadrid.com', 'phone')\n",
            "('realmadrid.com', 'phone', 'number')\n",
            "('phone', 'number', '+919876563789')\n",
            "('number', '+919876563789', '+9187456785')\n",
            "('+919876563789', '+9187456785', 'serve')\n",
            "('+9187456785', 'serve', 'gateways')\n",
            "('serve', 'gateways', 'Real')\n",
            "('gateways', 'Real', 'Madrid')\n",
            "('Real', 'Madrid', 'community')\n",
            "Quad Grams\n",
            "('Real', 'Madrid', 'one', 'illustrious')\n",
            "('Madrid', 'one', 'illustrious', 'football')\n",
            "('one', 'illustrious', 'football', 'clubs')\n",
            "('illustrious', 'football', 'clubs', 'globally')\n",
            "('football', 'clubs', 'globally', 'left')\n",
            "('clubs', 'globally', 'left', 'indelible')\n",
            "('globally', 'left', 'indelible', 'mark')\n",
            "('left', 'indelible', 'mark', 'sport')\n",
            "('indelible', 'mark', 'sport', \"'s\")\n",
            "('mark', 'sport', \"'s\", 'history')\n",
            "('sport', \"'s\", 'history', 'Established')\n",
            "(\"'s\", 'history', 'Established', '6-03-1902')\n",
            "('history', 'Established', '6-03-1902', 'club')\n",
            "('Established', '6-03-1902', 'club', 'witnessed')\n",
            "('6-03-1902', 'club', 'witnessed', 'triumphs')\n",
            "('club', 'witnessed', 'triumphs', 'challenges')\n",
            "('witnessed', 'triumphs', 'challenges', 'alike')\n",
            "('triumphs', 'challenges', 'alike', 'Over')\n",
            "('challenges', 'alike', 'Over', 'years')\n",
            "('alike', 'Over', 'years', 'Real')\n",
            "('Over', 'years', 'Real', 'Madrid')\n",
            "('years', 'Real', 'Madrid', 'evolved')\n",
            "('Real', 'Madrid', 'evolved', 'powerhouse')\n",
            "('Madrid', 'evolved', 'powerhouse', 'dominating')\n",
            "('evolved', 'powerhouse', 'dominating', 'football')\n",
            "('powerhouse', 'dominating', 'football', 'landscape')\n",
            "('dominating', 'football', 'landscape', 'The')\n",
            "('football', 'landscape', 'The', 'team')\n",
            "('landscape', 'The', 'team', \"'s\")\n",
            "('The', 'team', \"'s\", 'iconic')\n",
            "('team', \"'s\", 'iconic', 'victories')\n",
            "(\"'s\", 'iconic', 'victories', 'UEFA')\n",
            "('iconic', 'victories', 'UEFA', 'Champions')\n",
            "('victories', 'UEFA', 'Champions', 'League')\n",
            "('UEFA', 'Champions', 'League', '28/05/2016')\n",
            "('Champions', 'League', '28/05/2016', 'La')\n",
            "('League', '28/05/2016', 'La', 'Liga')\n",
            "('28/05/2016', 'La', 'Liga', 'title')\n",
            "('La', 'Liga', 'title', '23/04/2017')\n",
            "('Liga', 'title', '23/04/2017', 'showcase')\n",
            "('title', '23/04/2017', 'showcase', 'prowess')\n",
            "('23/04/2017', 'showcase', 'prowess', 'However')\n",
            "('showcase', 'prowess', 'However', \"'s\")\n",
            "('prowess', 'However', \"'s\", 'crucial')\n",
            "('However', \"'s\", 'crucial', 'acknowledge')\n",
            "(\"'s\", 'crucial', 'acknowledge', 'setbacks')\n",
            "('crucial', 'acknowledge', 'setbacks', 'Real')\n",
            "('acknowledge', 'setbacks', 'Real', 'Madrid')\n",
            "('setbacks', 'Real', 'Madrid', 'experienced')\n",
            "('Real', 'Madrid', 'experienced', 'tough')\n",
            "('Madrid', 'experienced', 'tough', 'period')\n",
            "('experienced', 'tough', 'period', '13-08-2000')\n",
            "('tough', 'period', '13-08-2000', 'faced')\n",
            "('period', '13-08-2000', 'faced', 'significant')\n",
            "('13-08-2000', 'faced', 'significant', 'defeat')\n",
            "('faced', 'significant', 'defeat', 'Nevertheless')\n",
            "('significant', 'defeat', 'Nevertheless', 'resilient')\n",
            "('defeat', 'Nevertheless', 'resilient', 'spirit')\n",
            "('Nevertheless', 'resilient', 'spirit', 'club')\n",
            "('resilient', 'spirit', 'club', 'encapsulated')\n",
            "('spirit', 'club', 'encapsulated', 'phrase')\n",
            "('club', 'encapsulated', 'phrase', '``')\n",
            "('encapsulated', 'phrase', '``', 'Do')\n",
            "('phrase', '``', 'Do', \"n't\")\n",
            "('``', 'Do', \"n't\", 'ever')\n",
            "('Do', \"n't\", 'ever', 'underestimate')\n",
            "(\"n't\", 'ever', 'underestimate', 'Real')\n",
            "('ever', 'underestimate', 'Real', 'Madrid')\n",
            "('underestimate', 'Real', 'Madrid', \"''\")\n",
            "('Real', 'Madrid', \"''\", 'reflects')\n",
            "('Madrid', \"''\", 'reflects', 'determination')\n",
            "(\"''\", 'reflects', 'determination', 'bounce')\n",
            "('reflects', 'determination', 'bounce', 'back')\n",
            "('determination', 'bounce', 'back', 'For')\n",
            "('bounce', 'back', 'For', 'enthusiasts')\n",
            "('back', 'For', 'enthusiasts', 'seeking')\n",
            "('For', 'enthusiasts', 'seeking', 'connect')\n",
            "('enthusiasts', 'seeking', 'connect', 'club')\n",
            "('seeking', 'connect', 'club', 'official')\n",
            "('connect', 'club', 'official', 'email')\n",
            "('club', 'official', 'email', 'info')\n",
            "('official', 'email', 'info', 'realmadrid.com')\n",
            "('email', 'info', 'realmadrid.com', 'phone')\n",
            "('info', 'realmadrid.com', 'phone', 'number')\n",
            "('realmadrid.com', 'phone', 'number', '+919876563789')\n",
            "('phone', 'number', '+919876563789', '+9187456785')\n",
            "('number', '+919876563789', '+9187456785', 'serve')\n",
            "('+919876563789', '+9187456785', 'serve', 'gateways')\n",
            "('+9187456785', 'serve', 'gateways', 'Real')\n",
            "('serve', 'gateways', 'Real', 'Madrid')\n",
            "('gateways', 'Real', 'Madrid', 'community')\n"
          ]
        }
      ]
    },
    {
      "cell_type": "markdown",
      "source": [
        "i. Find all dates and convert them to the DD-MM-YYYY format."
      ],
      "metadata": {
        "id": "eKOl-D_6Hmf8"
      }
    },
    {
      "cell_type": "code",
      "source": [
        "from operator import contains\n",
        "import re\n",
        "from datetime import datetime\n",
        "\n",
        "pattern = re.compile(r'\\b\\d{1,2}[./-]\\d{1,2}[./-]\\d{2,4}\\b')\n",
        "\n",
        "dls = []\n",
        "for i in newfl:\n",
        "    if pattern.match(i):\n",
        "        dls.append(i)\n",
        "\n",
        "print(\"Dates found:\", dls)"
      ],
      "metadata": {
        "id": "NWeQy5O3RZ0q",
        "colab": {
          "base_uri": "https://localhost:8080/"
        },
        "outputId": "9db1f523-4c3e-48c4-9ccc-e705272a0a4d"
      },
      "execution_count": 140,
      "outputs": [
        {
          "output_type": "stream",
          "name": "stdout",
          "text": [
            "Dates found: ['6-03-1902', '28/05/2016', '23/04/2017', '13-08-2000']\n"
          ]
        }
      ]
    },
    {
      "cell_type": "code",
      "source": [
        "from dateutil import parser\n",
        "\n",
        "date=[]\n",
        "for i in dls:\n",
        "  parsed_date = parser.parse(i)\n",
        "  formatted_date = parsed_date.strftime('%d-%m-%Y')\n",
        "  date.append(formatted_date)"
      ],
      "metadata": {
        "id": "O5gu58HffnX6"
      },
      "execution_count": 141,
      "outputs": []
    },
    {
      "cell_type": "code",
      "source": [
        "print(date)"
      ],
      "metadata": {
        "colab": {
          "base_uri": "https://localhost:8080/"
        },
        "id": "F32gonUPfsee",
        "outputId": "7457297a-8d0f-490e-9136-decc9ef41716"
      },
      "execution_count": 142,
      "outputs": [
        {
          "output_type": "stream",
          "name": "stdout",
          "text": [
            "['03-06-1902', '28-05-2016', '23-04-2017', '13-08-2000']\n"
          ]
        }
      ]
    },
    {
      "cell_type": "markdown",
      "source": [
        "j. Plot a distribution of the different values of year occurring in the text."
      ],
      "metadata": {
        "id": "1B1_PBbYHrOB"
      }
    },
    {
      "cell_type": "code",
      "source": [
        "year=[]\n",
        "for i in dls:\n",
        "  parsed_date = parser.parse(i)\n",
        "  formatted_date = parsed_date.strftime('%Y')\n",
        "  year.append(formatted_date)"
      ],
      "metadata": {
        "id": "VrOljILcgdGM"
      },
      "execution_count": 143,
      "outputs": []
    },
    {
      "cell_type": "code",
      "source": [
        "year_counter = Counter(year)\n",
        "\n",
        "unique_years = list(year_counter.keys())\n",
        "counts = list(year_counter.values())\n",
        "\n",
        "plt.bar(unique_years, counts)\n",
        "plt.xlabel('Year')\n",
        "plt.ylabel('Count')\n",
        "plt.title('Distribution of Years')\n",
        "plt.show()"
      ],
      "metadata": {
        "colab": {
          "base_uri": "https://localhost:8080/",
          "height": 472
        },
        "id": "0qU2PI9TghuS",
        "outputId": "ca79743e-3469-407b-f8d7-a52f6fd137ea"
      },
      "execution_count": 144,
      "outputs": [
        {
          "output_type": "display_data",
          "data": {
            "text/plain": [
              "<Figure size 640x480 with 1 Axes>"
            ],
            "image/png": "[encoded data removed]"
          },
          "metadata": {}
        }
      ]
    },
    {
      "cell_type": "markdown",
      "source": [
        "k. Determine whether the text contains any phone numbers in it. Ensure the phone\n",
        "numbers are valid if any. If an invalid phone number is found, remove it from\n",
        "the text."
      ],
      "metadata": {
        "id": "Aul2ybfcHuUd"
      }
    },
    {
      "cell_type": "code",
      "source": [
        "phone_pattern = re.compile(r'\\+\\d{2}\\s?\\d{10}')\n",
        "matches = re.findall(phone_pattern, text)\n",
        "\n",
        "ph=[]\n",
        "for i in newfl:\n",
        "  if i.startswith(\"+91\"):\n",
        "    if re.compile(r'\\+\\d{2}\\s?\\d{10}').match(i):\n",
        "      ph.append(i)\n",
        "    else:\n",
        "      newfl.remove(i)\n",
        "      print(i)\n",
        "\n",
        "\n",
        "print(\"Ph no:\", ph)"
      ],
      "metadata": {
        "colab": {
          "base_uri": "https://localhost:8080/"
        },
        "id": "7bR1q-d5hZeo",
        "outputId": "2b9ab745-b8ee-4933-fefc-d242d3bc7c57"
      },
      "execution_count": 145,
      "outputs": [
        {
          "output_type": "stream",
          "name": "stdout",
          "text": [
            "+9187456785\n",
            "Ph no: ['+919876563789']\n"
          ]
        }
      ]
    },
    {
      "cell_type": "markdown",
      "source": [
        "Stemming provides insights into the root form of words, helping to understand the core meaning and relationships between words in a text.\n",
        "\n",
        "Tokenization breaks text into individual tokens revealing the structure of sentences and documents.\n",
        "\n",
        "POS tagging provides insights into the structure of sentences, identifying the parts of speech for each word.\n",
        "\n",
        "Lemmatization identifies the base or dictionary form of a word, providing cleaner and more interpretable results.\n",
        "\n",
        "Validating phone numbers ensures the correctness and consistency of contact information.\n",
        "\n",
        "Formatting date involves organizing date information, making it readable and consistent.\n",
        "\n",
        "Punctuation removal involves eliminating punctuation marks from text, providing cleaner and more streamlined textual data.\n",
        "\n",
        "Stopwords removal involves eliminating common words that often don't carry significant meaning in a text."
      ],
      "metadata": {
        "id": "7DvFffKLIowC"
      }
    }
  ]
}