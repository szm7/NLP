{
  "nbformat": 4,
  "nbformat_minor": 0,
  "metadata": {
    "colab": {
      "provenance": []
    },
    "kernelspec": {
      "name": "python3",
      "display_name": "Python 3"
    },
    "language_info": {
      "name": "python"
    }
  },
  "cells": [
    {
      "cell_type": "code",
      "execution_count": null,
      "metadata": {
        "id": "MzNWv3oyJcWg"
      },
      "outputs": [],
      "source": [
        "import nltk\n",
        "import numpy as np\n",
        "import pandas as pd"
      ]
    },
    {
      "cell_type": "code",
      "source": [
        "spanish_txt=\"\"\"El Real Madrid es uno de los clubes de fútbol más prestigiosos y exitosos del mundo. Fundado en 1902, el club tiene su sede en Madrid, España, y ha dejado una huella imborrable en la historia del fútbol. El equipo blanco ha ganado numerosos títulos a nivel nacional e internacional, destacando sus 34 títulos de La Liga y 19 Copas del Rey en el ámbito doméstico. A nivel europeo, el Real Madrid ha conquistado la Liga de Campeones de la UEFA en 13 ocasiones, siendo el club más laureado en la competición. A lo largo de los años, el Real Madrid ha contado con algunos de los mejores futbolistas de la historia en sus filas, desde leyendas como Alfredo Di Stéfano y Ferenc Puskás hasta iconos contemporáneos como Cristiano Ronaldo y Sergio Ramos. La camiseta blanca del Real Madrid se ha convertido en un símbolo reconocido en todo el mundo, representando la excelencia y el prestigio en el deporte rey.\"\"\""
      ],
      "metadata": {
        "id": "w7KYZlsRJqg7"
      },
      "execution_count": null,
      "outputs": []
    },
    {
      "cell_type": "code",
      "source": [
        "spanish_txt"
      ],
      "metadata": {
        "colab": {
          "base_uri": "https://localhost:8080/",
          "height": 120
        },
        "id": "-uDyIC1XJyrl",
        "outputId": "24d33cc6-222e-4909-f462-aaeb3d70555a"
      },
      "execution_count": null,
      "outputs": [
        {
          "output_type": "execute_result",
          "data": {
            "text/plain": [
              "'El Real Madrid es uno de los clubes de fútbol más prestigiosos y exitosos del mundo. Fundado en 1902, el club tiene su sede en Madrid, España, y ha dejado una huella imborrable en la historia del fútbol. El equipo blanco ha ganado numerosos títulos a nivel nacional e internacional, destacando sus 34 títulos de La Liga y 19 Copas del Rey en el ámbito doméstico. A nivel europeo, el Real Madrid ha conquistado la Liga de Campeones de la UEFA en 13 ocasiones, siendo el club más laureado en la competición. A lo largo de los años, el Real Madrid ha contado con algunos de los mejores futbolistas de la historia en sus filas, desde leyendas como Alfredo Di Stéfano y Ferenc Puskás hasta iconos contemporáneos como Cristiano Ronaldo y Sergio Ramos. La camiseta blanca del Real Madrid se ha convertido en un símbolo reconocido en todo el mundo, representando la excelencia y el prestigio en el deporte rey.'"
            ],
            "application/vnd.google.colaboratory.intrinsic+json": {
              "type": "string"
            }
          },
          "metadata": {},
          "execution_count": 28
        }
      ]
    },
    {
      "cell_type": "code",
      "source": [
        "from nltk import word_tokenize\n",
        "nltk.download('punkt')\n",
        "\n",
        "tk = word_tokenize(spanish_txt,language=\"spanish\")\n",
        "print(tk)\n",
        "print(len(tk))"
      ],
      "metadata": {
        "colab": {
          "base_uri": "https://localhost:8080/"
        },
        "id": "j6SKaO7FJ1Yw",
        "outputId": "b0aeb839-c9fc-4483-a6e3-3ab2afe6e547"
      },
      "execution_count": null,
      "outputs": [
        {
          "output_type": "stream",
          "name": "stdout",
          "text": [
            "['El', 'Real', 'Madrid', 'es', 'uno', 'de', 'los', 'clubes', 'de', 'fútbol', 'más', 'prestigiosos', 'y', 'exitosos', 'del', 'mundo', '.', 'Fundado', 'en', '1902', ',', 'el', 'club', 'tiene', 'su', 'sede', 'en', 'Madrid', ',', 'España', ',', 'y', 'ha', 'dejado', 'una', 'huella', 'imborrable', 'en', 'la', 'historia', 'del', 'fútbol', '.', 'El', 'equipo', 'blanco', 'ha', 'ganado', 'numerosos', 'títulos', 'a', 'nivel', 'nacional', 'e', 'internacional', ',', 'destacando', 'sus', '34', 'títulos', 'de', 'La', 'Liga', 'y', '19', 'Copas', 'del', 'Rey', 'en', 'el', 'ámbito', 'doméstico', '.', 'A', 'nivel', 'europeo', ',', 'el', 'Real', 'Madrid', 'ha', 'conquistado', 'la', 'Liga', 'de', 'Campeones', 'de', 'la', 'UEFA', 'en', '13', 'ocasiones', ',', 'siendo', 'el', 'club', 'más', 'laureado', 'en', 'la', 'competición', '.', 'A', 'lo', 'largo', 'de', 'los', 'años', ',', 'el', 'Real', 'Madrid', 'ha', 'contado', 'con', 'algunos', 'de', 'los', 'mejores', 'futbolistas', 'de', 'la', 'historia', 'en', 'sus', 'filas', ',', 'desde', 'leyendas', 'como', 'Alfredo', 'Di', 'Stéfano', 'y', 'Ferenc', 'Puskás', 'hasta', 'iconos', 'contemporáneos', 'como', 'Cristiano', 'Ronaldo', 'y', 'Sergio', 'Ramos', '.', 'La', 'camiseta', 'blanca', 'del', 'Real', 'Madrid', 'se', 'ha', 'convertido', 'en', 'un', 'símbolo', 'reconocido', 'en', 'todo', 'el', 'mundo', ',', 'representando', 'la', 'excelencia', 'y', 'el', 'prestigio', 'en', 'el', 'deporte', 'rey', '.']\n",
            "175\n"
          ]
        },
        {
          "output_type": "stream",
          "name": "stderr",
          "text": [
            "[nltk_data] Downloading package punkt to /root/nltk_data...\n",
            "[nltk_data]   Package punkt is already up-to-date!\n"
          ]
        }
      ]
    },
    {
      "cell_type": "code",
      "source": [
        "print(pd.unique(tk))"
      ],
      "metadata": {
        "colab": {
          "base_uri": "https://localhost:8080/"
        },
        "id": "xTXTXgXUKO-Z",
        "outputId": "b932d702-9769-4678-aa23-4b91a76262d9"
      },
      "execution_count": null,
      "outputs": [
        {
          "output_type": "stream",
          "name": "stdout",
          "text": [
            "['El' 'Real' 'Madrid' 'es' 'uno' 'de' 'los' 'clubes' 'fútbol' 'más'\n",
            " 'prestigiosos' 'y' 'exitosos' 'del' 'mundo' '.' 'Fundado' 'en' '1902' ','\n",
            " 'el' 'club' 'tiene' 'su' 'sede' 'España' 'ha' 'dejado' 'una' 'huella'\n",
            " 'imborrable' 'la' 'historia' 'equipo' 'blanco' 'ganado' 'numerosos'\n",
            " 'títulos' 'a' 'nivel' 'nacional' 'e' 'internacional' 'destacando' 'sus'\n",
            " '34' 'La' 'Liga' '19' 'Copas' 'Rey' 'ámbito' 'doméstico' 'A' 'europeo'\n",
            " 'conquistado' 'Campeones' 'UEFA' '13' 'ocasiones' 'siendo' 'laureado'\n",
            " 'competición' 'lo' 'largo' 'años' 'contado' 'con' 'algunos' 'mejores'\n",
            " 'futbolistas' 'filas' 'desde' 'leyendas' 'como' 'Alfredo' 'Di' 'Stéfano'\n",
            " 'Ferenc' 'Puskás' 'hasta' 'iconos' 'contemporáneos' 'Cristiano' 'Ronaldo'\n",
            " 'Sergio' 'Ramos' 'camiseta' 'blanca' 'se' 'convertido' 'un' 'símbolo'\n",
            " 'reconocido' 'todo' 'representando' 'excelencia' 'prestigio' 'deporte'\n",
            " 'rey']\n"
          ]
        }
      ]
    },
    {
      "cell_type": "code",
      "source": [
        "print(len(pd.unique(tk)))"
      ],
      "metadata": {
        "colab": {
          "base_uri": "https://localhost:8080/"
        },
        "id": "ky2ftb1QKafY",
        "outputId": "ab20d79f-6ad1-4d3a-82b4-9637a6ce500f"
      },
      "execution_count": null,
      "outputs": [
        {
          "output_type": "stream",
          "name": "stdout",
          "text": [
            "100\n"
          ]
        }
      ]
    },
    {
      "cell_type": "code",
      "source": [
        "from nltk import sent_tokenize\n",
        "nltk.download('punkt')\n",
        "\n",
        "st_tk = sent_tokenize(spanish_txt,language=\"spanish\")\n",
        "print(st_tk)\n",
        "print(len(st_tk))"
      ],
      "metadata": {
        "colab": {
          "base_uri": "https://localhost:8080/"
        },
        "id": "cDPk7fZYL5_u",
        "outputId": "096cf9ff-ed79-4b79-d197-d46ae9aa09d4"
      },
      "execution_count": null,
      "outputs": [
        {
          "output_type": "stream",
          "name": "stdout",
          "text": [
            "['El Real Madrid es uno de los clubes de fútbol más prestigiosos y exitosos del mundo.', 'Fundado en 1902, el club tiene su sede en Madrid, España, y ha dejado una huella imborrable en la historia del fútbol.', 'El equipo blanco ha ganado numerosos títulos a nivel nacional e internacional, destacando sus 34 títulos de La Liga y 19 Copas del Rey en el ámbito doméstico.', 'A nivel europeo, el Real Madrid ha conquistado la Liga de Campeones de la UEFA en 13 ocasiones, siendo el club más laureado en la competición.', 'A lo largo de los años, el Real Madrid ha contado con algunos de los mejores futbolistas de la historia en sus filas, desde leyendas como Alfredo Di Stéfano y Ferenc Puskás hasta iconos contemporáneos como Cristiano Ronaldo y Sergio Ramos.', 'La camiseta blanca del Real Madrid se ha convertido en un símbolo reconocido en todo el mundo, representando la excelencia y el prestigio en el deporte rey.']\n",
            "6\n"
          ]
        },
        {
          "output_type": "stream",
          "name": "stderr",
          "text": [
            "[nltk_data] Downloading package punkt to /root/nltk_data...\n",
            "[nltk_data]   Package punkt is already up-to-date!\n"
          ]
        }
      ]
    },
    {
      "cell_type": "code",
      "source": [
        "mlylm_txt=\"\"\"റിയൽ മാഡ്രിഡ് ക്ലബ് ദെ ഫുട്ബോൾ, സാധാരണയായി റിയൽ മാഡ്രിഡ് അല്ലെങ്കിൽ റയൽ മാഡ്രിഡ് എന്ന് അറിയപ്പെടുന്നു, ഇത് മാഡ്രിഡ് ആസ്ഥാനമായുള്ള ഒരു സ്പാനിഷ് പ്രൊഫഷണൽ ഫുട്ബോൾ ക്ലബ്ബാണ്. 1902 മാർച്ച് 6 ന് മാഡ്രിഡ് ഫുട്ബോൾ ക്ലബ് എന്ന പേരിൽ സ്ഥാപിതമായ ഈ ക്ലബ് ലോകത്തിലെ ഏറ്റവും മികച്ച ക്ലബ്ബുകളിലൊന്നായി അറിയപ്പെടുന്നു . തുടക്കത്തിൽ “മാഡ്രിഡ് ഫുട്ബോൾ ക്ലബ് ” എന്നറിയപ്പെട്ടിരുന്ന ക്ലബ്ബിന് 1920 ൽ അൽഫോൻസോ പന്ത്രണ്ടാമൻ രാജാവ് രാജകീയ പദവി നൽകി . ഇതിന്റെ ഭാഗമായി പേരിൽ റയൽ എന്ന വാക്കും ഒപ്പം ക്ലബ്ബിന്റെ ചിഹ്നത്തിൽ രാജകിരീടവും നൽകി . റയൽ എന്ന സ്പാനിഷ് വാക്ക് \"രാജകീയം\" എന്നതിനെ സൂചിപ്പിക്കുന്നു. 1947 മുതൽ മാഡ്രിഡിലെ താഴെ പട്ടണത്തിൽ സ്ഥിതി ചെയ്യുന്ന സാന്തിയാഗോ ബെർണബ്യു സ്റ്റേഡിയത്തിലാണ് ടീം ആതിഥേയ മത്സരങ്ങൾ കളിക്കുന്നത് . മിക്ക യൂറോപ്യൻ കായിക സ്ഥാപനങ്ങളിൽ നിന്ന് വ്യത്യസ്തമായി, റയൽ മാഡ്രിഡിന്റെ അംഗങ്ങൾ ക്ലബ്ബിന്റെ ചരിത്രത്തിലുടനീളം ഉടമസ്ഥതയിലുള്ളവരും പ്രവർത്തന അംഗങ്ങളുമാണ്. ലോകത്തെ ഏറ്റവും കൂടുതൽ ആരാധകർ ഉള്ള ടീമുകളിൽ ഒന്നാണ് റയൽ മാഡ്രിഡ്. ലാ ലിഗയുടെ മൂന്ന് സ്ഥാപക അംഗങ്ങളിൽ ഒരാളായ റയൽ മാഡ്രിഡ് 1929 ൽ ആരംഭിച്ചതിനുശേഷം ഒരിക്കലും ഒരിക്കൽ പോലും ലീഗിൽ നിന്ന് തരം താഴ്ത്തപ്പെട്ടിട്ടില്ല.\"\"\""
      ],
      "metadata": {
        "id": "JlYNykirMBs9"
      },
      "execution_count": null,
      "outputs": []
    },
    {
      "cell_type": "code",
      "source": [
        "mlylm_txt"
      ],
      "metadata": {
        "colab": {
          "base_uri": "https://localhost:8080/",
          "height": 120
        },
        "id": "5uOdgZWvM9y-",
        "outputId": "2b0d15dd-ea80-40d3-971e-308d486706f3"
      },
      "execution_count": null,
      "outputs": [
        {
          "output_type": "execute_result",
          "data": {
            "text/plain": [
              "'റിയൽ മാഡ്രിഡ് ക്ലബ് ദെ ഫുട്ബോൾ, സാധാരണയായി റിയൽ മാഡ്രിഡ് അല്ലെങ്കിൽ റയൽ മാഡ്രിഡ് എന്ന് അറിയപ്പെടുന്നു, ഇത് മാഡ്രിഡ് ആസ്ഥാനമായുള്ള ഒരു സ്പാനിഷ് പ്രൊഫഷണൽ ഫുട്ബോൾ ക്ലബ്ബാണ്. 1902 മാർച്ച് 6 ന് മാഡ്രിഡ് ഫുട്ബോൾ ക്ലബ് എന്ന പേരിൽ സ്ഥാപിതമായ ഈ ക്ലബ് ലോകത്തിലെ ഏറ്റവും മികച്ച ക്ലബ്ബുകളിലൊന്നായി അറിയപ്പെടുന്നു . തുടക്കത്തിൽ “മാഡ്രിഡ് ഫുട്ബോൾ ക്ലബ് ” എന്നറിയപ്പെട്ടിരുന്ന ക്ലബ്ബിന് 1920 ൽ അൽഫോൻസോ പന്ത്രണ്ടാമൻ രാജാവ് രാജകീയ പദവി നൽകി . ഇതിന്റെ ഭാഗമായി പേരിൽ റയൽ എന്ന വാക്കും ഒപ്പം ക്ലബ്ബിന്റെ ചിഹ്നത്തിൽ രാജകിരീടവും നൽകി . റയൽ എന്ന സ്പാനിഷ് വാക്ക് \"രാജകീയം\" എന്നതിനെ സൂചിപ്പിക്കുന്നു. 1947 മുതൽ മാഡ്രിഡിലെ താഴെ പട്ടണത്തിൽ സ്ഥിതി ചെയ്യുന്ന സാന്തിയാഗോ ബെർണബ്യു സ്റ്റേഡിയത്തിലാണ് ടീം ആതിഥേയ മത്സരങ്ങൾ കളിക്കുന്നത് . മിക്ക യൂറോപ്യൻ കായിക സ്ഥാപനങ്ങളിൽ നിന്ന് വ്യത്യസ്തമായി, റയൽ മാഡ്രിഡിന്റെ അംഗങ്ങൾ ക്ലബ്ബിന്റെ ചരിത്രത്തിലുടനീളം ഉടമസ്ഥതയിലുള്ളവരും പ്രവർത്തന അംഗങ്ങളുമാണ്. ലോകത്തെ ഏറ്റവും കൂടുതൽ ആരാധകർ ഉള്ള ടീമുകളിൽ ഒന്നാണ് റയൽ മാഡ്രിഡ്. ലാ ലിഗയുടെ മൂന്ന് സ്ഥാപക അംഗങ്ങളിൽ ഒരാളായ റയൽ മാഡ്രിഡ് 1929 ൽ ആരംഭിച്ചതിനുശേഷം ഒരിക്കലും ഒരിക്കൽ പോലും ലീഗിൽ നിന്ന് തരം താഴ്ത്തപ്പെട്ടിട്ടില്ല.'"
            ],
            "application/vnd.google.colaboratory.intrinsic+json": {
              "type": "string"
            }
          },
          "metadata": {},
          "execution_count": 34
        }
      ]
    },
    {
      "cell_type": "code",
      "source": [
        "pip install indic-nlp-library\n"
      ],
      "metadata": {
        "colab": {
          "base_uri": "https://localhost:8080/"
        },
        "id": "G9g5Og91TQua",
        "outputId": "eeb60cc7-4f74-4394-933e-b0e0017371df"
      },
      "execution_count": null,
      "outputs": [
        {
          "output_type": "stream",
          "name": "stdout",
          "text": [
            "Requirement already satisfied: indic-nlp-library in /usr/local/lib/python3.10/dist-packages (0.92)\n",
            "Requirement already satisfied: sphinx-argparse in /usr/local/lib/python3.10/dist-packages (from indic-nlp-library) (0.4.0)\n",
            "Requirement already satisfied: sphinx-rtd-theme in /usr/local/lib/python3.10/dist-packages (from indic-nlp-library) (2.0.0)\n",
            "Requirement already satisfied: morfessor in /usr/local/lib/python3.10/dist-packages (from indic-nlp-library) (2.0.6)\n",
            "Requirement already satisfied: pandas in /usr/local/lib/python3.10/dist-packages (from indic-nlp-library) (1.5.3)\n",
            "Requirement already satisfied: numpy in /usr/local/lib/python3.10/dist-packages (from indic-nlp-library) (1.25.2)\n",
            "Requirement already satisfied: python-dateutil>=2.8.1 in /usr/local/lib/python3.10/dist-packages (from pandas->indic-nlp-library) (2.8.2)\n",
            "Requirement already satisfied: pytz>=2020.1 in /usr/local/lib/python3.10/dist-packages (from pandas->indic-nlp-library) (2023.4)\n",
            "Requirement already satisfied: sphinx>=1.2.0 in /usr/local/lib/python3.10/dist-packages (from sphinx-argparse->indic-nlp-library) (5.0.2)\n",
            "Requirement already satisfied: docutils<0.21 in /usr/local/lib/python3.10/dist-packages (from sphinx-rtd-theme->indic-nlp-library) (0.18.1)\n",
            "Requirement already satisfied: sphinxcontrib-jquery<5,>=4 in /usr/local/lib/python3.10/dist-packages (from sphinx-rtd-theme->indic-nlp-library) (4.1)\n",
            "Requirement already satisfied: six>=1.5 in /usr/local/lib/python3.10/dist-packages (from python-dateutil>=2.8.1->pandas->indic-nlp-library) (1.16.0)\n",
            "Requirement already satisfied: sphinxcontrib-applehelp in /usr/local/lib/python3.10/dist-packages (from sphinx>=1.2.0->sphinx-argparse->indic-nlp-library) (1.0.8)\n",
            "Requirement already satisfied: sphinxcontrib-devhelp in /usr/local/lib/python3.10/dist-packages (from sphinx>=1.2.0->sphinx-argparse->indic-nlp-library) (1.0.6)\n",
            "Requirement already satisfied: sphinxcontrib-jsmath in /usr/local/lib/python3.10/dist-packages (from sphinx>=1.2.0->sphinx-argparse->indic-nlp-library) (1.0.1)\n",
            "Requirement already satisfied: sphinxcontrib-htmlhelp>=2.0.0 in /usr/local/lib/python3.10/dist-packages (from sphinx>=1.2.0->sphinx-argparse->indic-nlp-library) (2.0.5)\n",
            "Requirement already satisfied: sphinxcontrib-serializinghtml>=1.1.5 in /usr/local/lib/python3.10/dist-packages (from sphinx>=1.2.0->sphinx-argparse->indic-nlp-library) (1.1.10)\n",
            "Requirement already satisfied: sphinxcontrib-qthelp in /usr/local/lib/python3.10/dist-packages (from sphinx>=1.2.0->sphinx-argparse->indic-nlp-library) (1.0.7)\n",
            "Requirement already satisfied: Jinja2>=2.3 in /usr/local/lib/python3.10/dist-packages (from sphinx>=1.2.0->sphinx-argparse->indic-nlp-library) (3.1.3)\n",
            "Requirement already satisfied: Pygments>=2.0 in /usr/local/lib/python3.10/dist-packages (from sphinx>=1.2.0->sphinx-argparse->indic-nlp-library) (2.16.1)\n",
            "Requirement already satisfied: snowballstemmer>=1.1 in /usr/local/lib/python3.10/dist-packages (from sphinx>=1.2.0->sphinx-argparse->indic-nlp-library) (2.2.0)\n",
            "Requirement already satisfied: babel>=1.3 in /usr/local/lib/python3.10/dist-packages (from sphinx>=1.2.0->sphinx-argparse->indic-nlp-library) (2.14.0)\n",
            "Requirement already satisfied: alabaster<0.8,>=0.7 in /usr/local/lib/python3.10/dist-packages (from sphinx>=1.2.0->sphinx-argparse->indic-nlp-library) (0.7.16)\n",
            "Requirement already satisfied: imagesize in /usr/local/lib/python3.10/dist-packages (from sphinx>=1.2.0->sphinx-argparse->indic-nlp-library) (1.4.1)\n",
            "Requirement already satisfied: requests>=2.5.0 in /usr/local/lib/python3.10/dist-packages (from sphinx>=1.2.0->sphinx-argparse->indic-nlp-library) (2.31.0)\n",
            "Requirement already satisfied: packaging in /usr/local/lib/python3.10/dist-packages (from sphinx>=1.2.0->sphinx-argparse->indic-nlp-library) (23.2)\n",
            "Requirement already satisfied: MarkupSafe>=2.0 in /usr/local/lib/python3.10/dist-packages (from Jinja2>=2.3->sphinx>=1.2.0->sphinx-argparse->indic-nlp-library) (2.1.5)\n",
            "Requirement already satisfied: charset-normalizer<4,>=2 in /usr/local/lib/python3.10/dist-packages (from requests>=2.5.0->sphinx>=1.2.0->sphinx-argparse->indic-nlp-library) (3.3.2)\n",
            "Requirement already satisfied: idna<4,>=2.5 in /usr/local/lib/python3.10/dist-packages (from requests>=2.5.0->sphinx>=1.2.0->sphinx-argparse->indic-nlp-library) (3.6)\n",
            "Requirement already satisfied: urllib3<3,>=1.21.1 in /usr/local/lib/python3.10/dist-packages (from requests>=2.5.0->sphinx>=1.2.0->sphinx-argparse->indic-nlp-library) (2.0.7)\n",
            "Requirement already satisfied: certifi>=2017.4.17 in /usr/local/lib/python3.10/dist-packages (from requests>=2.5.0->sphinx>=1.2.0->sphinx-argparse->indic-nlp-library) (2024.2.2)\n"
          ]
        }
      ]
    },
    {
      "cell_type": "code",
      "source": [
        "from nltk import word_tokenize\n",
        "nltk.download('punkt')\n",
        "\n",
        "tk = word_tokenize(mlylm_txt)\n",
        "print(tk)\n",
        "print(len(tk))"
      ],
      "metadata": {
        "colab": {
          "base_uri": "https://localhost:8080/"
        },
        "id": "RIbpwXelTw4L",
        "outputId": "87f7991e-8549-46d7-9b95-54808bd030cf"
      },
      "execution_count": null,
      "outputs": [
        {
          "output_type": "stream",
          "name": "stdout",
          "text": [
            "['റിയൽ', 'മാഡ്രിഡ്', 'ക്ലബ്', 'ദെ', 'ഫുട്ബോൾ', ',', 'സാധാരണയായി', 'റിയൽ', 'മാഡ്രിഡ്', 'അല്ലെങ്കിൽ', 'റയൽ', 'മാഡ്രിഡ്', 'എന്ന്', 'അറിയപ്പെടുന്നു', ',', 'ഇത്', 'മാഡ്രിഡ്', 'ആസ്ഥാനമായുള്ള', 'ഒരു', 'സ്പാനിഷ്', 'പ്രൊഫഷണൽ', 'ഫുട്ബോൾ', 'ക്ലബ്ബാണ്', '.', '1902', 'മാർച്ച്', '6', 'ന്', 'മാഡ്രിഡ്', 'ഫുട്ബോൾ', 'ക്ലബ്', 'എന്ന', 'പേരിൽ', 'സ്ഥാപിതമായ', 'ഈ', 'ക്ലബ്', 'ലോകത്തിലെ', 'ഏറ്റവും', 'മികച്ച', 'ക്ലബ്ബുകളിലൊന്നായി', 'അറിയപ്പെടുന്നു', '.', 'തുടക്കത്തിൽ', '“', 'മാഡ്രിഡ്', 'ഫുട്ബോൾ', 'ക്ലബ്', '”', 'എന്നറിയപ്പെട്ടിരുന്ന', 'ക്ലബ്ബിന്', '1920', 'ൽ', 'അൽഫോൻസോ', 'പന്ത്രണ്ടാമൻ', 'രാജാവ്', 'രാജകീയ', 'പദവി', 'നൽകി', '.', 'ഇതിന്റെ', 'ഭാഗമായി', 'പേരിൽ', 'റയൽ', 'എന്ന', 'വാക്കും', 'ഒപ്പം', 'ക്ലബ്ബിന്റെ', 'ചിഹ്നത്തിൽ', 'രാജകിരീടവും', 'നൽകി', '.', 'റയൽ', 'എന്ന', 'സ്പാനിഷ്', 'വാക്ക്', '``', 'രാജകീയം', \"''\", 'എന്നതിനെ', 'സൂചിപ്പിക്കുന്നു', '.', '1947', 'മുതൽ', 'മാഡ്രിഡിലെ', 'താഴെ', 'പട്ടണത്തിൽ', 'സ്ഥിതി', 'ചെയ്യുന്ന', 'സാന്തിയാഗോ', 'ബെർണബ്യു', 'സ്റ്റേഡിയത്തിലാണ്', 'ടീം', 'ആതിഥേയ', 'മത്സരങ്ങൾ', 'കളിക്കുന്നത്', '.', 'മിക്ക', 'യൂറോപ്യൻ', 'കായിക', 'സ്ഥാപനങ്ങളിൽ', 'നിന്ന്', 'വ്യത്യസ്തമായി', ',', 'റയൽ', 'മാഡ്രിഡിന്റെ', 'അംഗങ്ങൾ', 'ക്ലബ്ബിന്റെ', 'ചരിത്രത്തിലുടനീളം', 'ഉടമസ്ഥതയിലുള്ളവരും', 'പ്രവർത്തന', 'അംഗങ്ങളുമാണ്', '.', 'ലോകത്തെ', 'ഏറ്റവും', 'കൂടുതൽ', 'ആരാധകർ', 'ഉള്ള', 'ടീമുകളിൽ', 'ഒന്നാണ്', 'റയൽ', 'മാഡ്രിഡ്', '.', 'ലാ', 'ലിഗയുടെ', 'മൂന്ന്', 'സ്ഥാപക', 'അംഗങ്ങളിൽ', 'ഒരാളായ', 'റയൽ', 'മാഡ്രിഡ്', '1929', 'ൽ', 'ആരംഭിച്ചതിനുശേഷം', 'ഒരിക്കലും', 'ഒരിക്കൽ', 'പോലും', 'ലീഗിൽ', 'നിന്ന്', 'തരം', 'താഴ്ത്തപ്പെട്ടിട്ടില്ല', '.']\n",
            "141\n"
          ]
        },
        {
          "output_type": "stream",
          "name": "stderr",
          "text": [
            "[nltk_data] Downloading package punkt to /root/nltk_data...\n",
            "[nltk_data]   Package punkt is already up-to-date!\n"
          ]
        }
      ]
    },
    {
      "cell_type": "code",
      "source": [
        "from indicnlp.tokenize import indic_tokenize\n",
        "\n",
        "\n",
        "mlylm_tk = indic_tokenize.trivial_tokenize(mlylm_txt)\n",
        "print(mlylm_tk)\n",
        "print(len(mlylm_tk))"
      ],
      "metadata": {
        "colab": {
          "base_uri": "https://localhost:8080/"
        },
        "id": "2QfMjOA1TSOI",
        "outputId": "8ea233f1-4086-4605-e682-568848cf4b9d"
      },
      "execution_count": null,
      "outputs": [
        {
          "output_type": "stream",
          "name": "stdout",
          "text": [
            "['റിയൽ', 'മാഡ്രിഡ്', 'ക്ലബ്', 'ദെ', 'ഫുട്ബോൾ', ',', 'സാധാരണയായി', 'റിയൽ', 'മാഡ്രിഡ്', 'അല്ലെങ്കിൽ', 'റയൽ', 'മാഡ്രിഡ്', 'എന്ന്', 'അറിയപ്പെടുന്നു', ',', 'ഇത്', 'മാഡ്രിഡ്', 'ആസ്ഥാനമായുള്ള', 'ഒരു', 'സ്പാനിഷ്', 'പ്രൊഫഷണൽ', 'ഫുട്ബോൾ', 'ക്ലബ്ബാണ്', '.', '1902', 'മാർച്ച്', '6', 'ന്', 'മാഡ്രിഡ്', 'ഫുട്ബോൾ', 'ക്ലബ്', 'എന്ന', 'പേരിൽ', 'സ്ഥാപിതമായ', 'ഈ', 'ക്ലബ്', 'ലോകത്തിലെ', 'ഏറ്റവും', 'മികച്ച', 'ക്ലബ്ബുകളിലൊന്നായി', 'അറിയപ്പെടുന്നു', '.', 'തുടക്കത്തിൽ', '“മാഡ്രിഡ്', 'ഫുട്ബോൾ', 'ക്ലബ്', '”', 'എന്നറിയപ്പെട്ടിരുന്ന', 'ക്ലബ്ബിന്', '1920', 'ൽ', 'അൽഫോൻസോ', 'പന്ത്രണ്ടാമൻ', 'രാജാവ്', 'രാജകീയ', 'പദവി', 'നൽകി', '.', 'ഇതിന്റെ', 'ഭാഗമായി', 'പേരിൽ', 'റയൽ', 'എന്ന', 'വാക്കും', 'ഒപ്പം', 'ക്ലബ്ബിന്റെ', 'ചിഹ്നത്തിൽ', 'രാജകിരീടവും', 'നൽകി', '.', 'റയൽ', 'എന്ന', 'സ്പാനിഷ്', 'വാക്ക്', '\"', 'രാജകീയം', '\"', 'എന്നതിനെ', 'സൂചിപ്പിക്കുന്നു', '.', '1947', 'മുതൽ', 'മാഡ്രിഡിലെ', 'താഴെ', 'പട്ടണത്തിൽ', 'സ്ഥിതി', 'ചെയ്യുന്ന', 'സാന്തിയാഗോ', 'ബെർണബ്യു', 'സ്റ്റേഡിയത്തിലാണ്', 'ടീം', 'ആതിഥേയ', 'മത്സരങ്ങൾ', 'കളിക്കുന്നത്', '.', 'മിക്ക', 'യൂറോപ്യൻ', 'കായിക', 'സ്ഥാപനങ്ങളിൽ', 'നിന്ന്', 'വ്യത്യസ്തമായി', ',', 'റയൽ', 'മാഡ്രിഡിന്റെ', 'അംഗങ്ങൾ', 'ക്ലബ്ബിന്റെ', 'ചരിത്രത്തിലുടനീളം', 'ഉടമസ്ഥതയിലുള്ളവരും', 'പ്രവർത്തന', 'അംഗങ്ങളുമാണ്', '.', 'ലോകത്തെ', 'ഏറ്റവും', 'കൂടുതൽ', 'ആരാധകർ', 'ഉള്ള', 'ടീമുകളിൽ', 'ഒന്നാണ്', 'റയൽ', 'മാഡ്രിഡ്', '.', 'ലാ', 'ലിഗയുടെ', 'മൂന്ന്', 'സ്ഥാപക', 'അംഗങ്ങളിൽ', 'ഒരാളായ', 'റയൽ', 'മാഡ്രിഡ്', '1929', 'ൽ', 'ആരംഭിച്ചതിനുശേഷം', 'ഒരിക്കലും', 'ഒരിക്കൽ', 'പോലും', 'ലീഗിൽ', 'നിന്ന്', 'തരം', 'താഴ്ത്തപ്പെട്ടിട്ടില്ല', '.']\n",
            "140\n"
          ]
        }
      ]
    },
    {
      "cell_type": "code",
      "source": [
        "from nltk import sent_tokenize\n",
        "nltk.download('punkt')\n",
        "\n",
        "ml_tk = sent_tokenize(mlylm_txt)\n",
        "print(ml_tk)\n",
        "print(len(ml_tk))"
      ],
      "metadata": {
        "colab": {
          "base_uri": "https://localhost:8080/"
        },
        "id": "4c8j-OUmUrEi",
        "outputId": "547d4225-a058-4678-d427-7e9beb1da599"
      },
      "execution_count": null,
      "outputs": [
        {
          "output_type": "stream",
          "name": "stdout",
          "text": [
            "['റിയൽ മാഡ്രിഡ് ക്ലബ് ദെ ഫുട്ബോൾ, സാധാരണയായി റിയൽ മാഡ്രിഡ് അല്ലെങ്കിൽ റയൽ മാഡ്രിഡ് എന്ന് അറിയപ്പെടുന്നു, ഇത് മാഡ്രിഡ് ആസ്ഥാനമായുള്ള ഒരു സ്പാനിഷ് പ്രൊഫഷണൽ ഫുട്ബോൾ ക്ലബ്ബാണ്.', '1902 മാർച്ച് 6 ന് മാഡ്രിഡ് ഫുട്ബോൾ ക്ലബ് എന്ന പേരിൽ സ്ഥാപിതമായ ഈ ക്ലബ് ലോകത്തിലെ ഏറ്റവും മികച്ച ക്ലബ്ബുകളിലൊന്നായി അറിയപ്പെടുന്നു .', 'തുടക്കത്തിൽ “മാഡ്രിഡ് ഫുട്ബോൾ ക്ലബ് ” എന്നറിയപ്പെട്ടിരുന്ന ക്ലബ്ബിന് 1920 ൽ അൽഫോൻസോ പന്ത്രണ്ടാമൻ രാജാവ് രാജകീയ പദവി നൽകി .', 'ഇതിന്റെ ഭാഗമായി പേരിൽ റയൽ എന്ന വാക്കും ഒപ്പം ക്ലബ്ബിന്റെ ചിഹ്നത്തിൽ രാജകിരീടവും നൽകി .', 'റയൽ എന്ന സ്പാനിഷ് വാക്ക് \"രാജകീയം\" എന്നതിനെ സൂചിപ്പിക്കുന്നു.', '1947 മുതൽ മാഡ്രിഡിലെ താഴെ പട്ടണത്തിൽ സ്ഥിതി ചെയ്യുന്ന സാന്തിയാഗോ ബെർണബ്യു സ്റ്റേഡിയത്തിലാണ് ടീം ആതിഥേയ മത്സരങ്ങൾ കളിക്കുന്നത് .', 'മിക്ക യൂറോപ്യൻ കായിക സ്ഥാപനങ്ങളിൽ നിന്ന് വ്യത്യസ്തമായി, റയൽ മാഡ്രിഡിന്റെ അംഗങ്ങൾ ക്ലബ്ബിന്റെ ചരിത്രത്തിലുടനീളം ഉടമസ്ഥതയിലുള്ളവരും പ്രവർത്തന അംഗങ്ങളുമാണ്.', 'ലോകത്തെ ഏറ്റവും കൂടുതൽ ആരാധകർ ഉള്ള ടീമുകളിൽ ഒന്നാണ് റയൽ മാഡ്രിഡ്.', 'ലാ ലിഗയുടെ മൂന്ന് സ്ഥാപക അംഗങ്ങളിൽ ഒരാളായ റയൽ മാഡ്രിഡ് 1929 ൽ ആരംഭിച്ചതിനുശേഷം ഒരിക്കലും ഒരിക്കൽ പോലും ലീഗിൽ നിന്ന് തരം താഴ്ത്തപ്പെട്ടിട്ടില്ല.']\n",
            "9\n"
          ]
        },
        {
          "output_type": "stream",
          "name": "stderr",
          "text": [
            "[nltk_data] Downloading package punkt to /root/nltk_data...\n",
            "[nltk_data]   Package punkt is already up-to-date!\n"
          ]
        }
      ]
    }
  ]
}