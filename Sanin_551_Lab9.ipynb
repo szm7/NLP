{
  "nbformat": 4,
  "nbformat_minor": 0,
  "metadata": {
    "colab": {
      "provenance": []
    },
    "kernelspec": {
      "name": "python3",
      "display_name": "Python 3"
    },
    "language_info": {
      "name": "python"
    }
  },
  "cells": [
    {
      "cell_type": "markdown",
      "source": [
        "#Edit dist"
      ],
      "metadata": {
        "id": "Lq4TdAbe5omd"
      }
    },
    {
      "cell_type": "code",
      "execution_count": 17,
      "metadata": {
        "colab": {
          "base_uri": "https://localhost:8080/"
        },
        "id": "IoU46DYvx-AC",
        "outputId": "bd60b091-0491-4dce-f271-29a4f72dfbef"
      },
      "outputs": [
        {
          "output_type": "stream",
          "name": "stdout",
          "text": [
            "Edit distance between 'intention' and 'execution' is: 5\n"
          ]
        }
      ],
      "source": [
        "def edit_distance(word1, word2):\n",
        "    m = len(word1)\n",
        "    n = len(word2)\n",
        "\n",
        "    dp = [[0] * (n + 1) for _ in range(m + 1)]\n",
        "\n",
        "    for i in range(m + 1):\n",
        "        dp[i][0] = i\n",
        "\n",
        "    for j in range(n + 1):\n",
        "        dp[0][j] = j\n",
        "\n",
        "    for i in range(1, m + 1):\n",
        "        for j in range(1, n + 1):\n",
        "            if word1[i - 1] == word2[j - 1]:\n",
        "                dp[i][j] = dp[i - 1][j - 1]\n",
        "            else:\n",
        "                dp[i][j] = min(dp[i - 1][j - 1], dp[i - 1][j], dp[i][j - 1]) + 1\n",
        "\n",
        "    return dp[m][n]\n",
        "\n",
        "word1 = \"intention\"\n",
        "word2 = \"execution\"\n",
        "print(\"Edit distance between '{}' and '{}' is: {}\".format(word1, word2, edit_distance(word1, word2)))\n"
      ]
    },
    {
      "cell_type": "markdown",
      "source": [
        "edit dist is a way to measure how similar two strings are by counting the minimum number of operations needed to transform one string into the other. These operations can be insertions, deletions, or substitutions of individual characters.\n",
        "\n",
        "for example for hat and cat only the first letter needs to be changed. thus the edit dist is only 1"
      ],
      "metadata": {
        "id": "YU-qz_255aC6"
      }
    },
    {
      "cell_type": "markdown",
      "source": [
        "#Poem"
      ],
      "metadata": {
        "id": "g8jAqgx85r_9"
      }
    },
    {
      "cell_type": "code",
      "source": [
        "import nltk\n",
        "\n",
        "nltk.download('punkt')\n",
        "nltk.download('averaged_perceptron_tagger')\n"
      ],
      "metadata": {
        "colab": {
          "base_uri": "https://localhost:8080/"
        },
        "id": "CmIJ1qskymD4",
        "outputId": "6d930902-7460-4377-b5d1-b9a824730615"
      },
      "execution_count": 18,
      "outputs": [
        {
          "output_type": "stream",
          "name": "stderr",
          "text": [
            "[nltk_data] Downloading package punkt to /root/nltk_data...\n",
            "[nltk_data]   Package punkt is already up-to-date!\n",
            "[nltk_data] Downloading package averaged_perceptron_tagger to\n",
            "[nltk_data]     /root/nltk_data...\n",
            "[nltk_data]   Package averaged_perceptron_tagger is already up-to-\n",
            "[nltk_data]       date!\n"
          ]
        },
        {
          "output_type": "execute_result",
          "data": {
            "text/plain": [
              "True"
            ]
          },
          "metadata": {},
          "execution_count": 18
        }
      ]
    },
    {
      "cell_type": "code",
      "source": [
        "from nltk.tokenize import word_tokenize\n",
        "from nltk.tag import pos_tag"
      ],
      "metadata": {
        "id": "XB83tcMkyvBk"
      },
      "execution_count": 19,
      "outputs": []
    },
    {
      "cell_type": "code",
      "source": [
        "import random\n",
        "\n",
        "def generate_poem(keywords):\n",
        "    poem_templates = [\n",
        "\"The cloudy blue {} above\",\n",
        "\"The vast watery {} underneath\",\n",
        "\"The {} floating in the air,\",\n",
        "\"The gentle {} flowing through her hair,\",\n",
        "\"The golden {}, deeply engraving her {},\",\n",
        "\"Like the {}, \",\n",
        "\"She keeps kissing the {},\",\n",
        "\"Her {} waving around,\",\n",
        "\"Her {}, seamlessly bound, \",\n",
        "\"The {} lighting her steps,\",\n",
        "\"Her {}, shining among the broken stardust,\",\n",
        "\"The Sky, the Sea, the Wind, and everything above and below bows down to her, \",\n",
        "\"The Queen of the Seven Seas.\"\n",
        "    ]\n",
        "\n",
        "    poem_template = random.choice(poem_templates)\n",
        "    poem = poem_template.format(*keywords) + \"\\n\"\n",
        "\n",
        "    poem += \"The {} {}.\\n\".format(random.choice([\"wind\", \"rain\", \"sunshine\", \"moonlight\"]), random.choice([\"dances\", \"sings\", \"whispers\", \"cries\"]))\n",
        "    poem += \"The {} {}.\\n\".format(random.choice([\"birds\", \"flowers\", \"trees\", \"leaves\"]), random.choice([\"flap\", \"bloom\", \"sway\", \"rustle\"]))\n",
        "    poem += \"In the {} {},\\n\".format(random.choice([\"glow\", \"shade\", \"light\", \"darkness\"]), random.choice([\"she walks\", \"he wanders\", \"they roam\"]))\n",
        "    poem += \"Where {} {}.\\n\".format(random.choice([\"dreams\", \"hopes\", \"memories\", \"fears\"]), random.choice([\"soar\", \"linger\", \"echo\", \"vanish\"]))\n",
        "\n",
        "    return poem\n",
        "\n",
        "keywords = [\"forest\", \"wizard\", \"cast spells\", \"exploring\", \"a hidden cave\", \"excited\"]\n",
        "\n",
        "poem = generate_poem(keywords)\n",
        "print(\"Generated Poem:\")\n",
        "print(poem)\n"
      ],
      "metadata": {
        "colab": {
          "base_uri": "https://localhost:8080/"
        },
        "id": "5kSCPACl2Mt0",
        "outputId": "a24231ba-822f-4ff1-b04a-d0251d075682"
      },
      "execution_count": 21,
      "outputs": [
        {
          "output_type": "stream",
          "name": "stdout",
          "text": [
            "Generated Poem:\n",
            "The forest floating in the air,\n",
            "The moonlight cries.\n",
            "The flowers flap.\n",
            "In the light he wanders,\n",
            "Where fears vanish.\n",
            "\n"
          ]
        }
      ]
    }
  ]
}