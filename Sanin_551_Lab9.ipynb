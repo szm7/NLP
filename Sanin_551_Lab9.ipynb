{
  "cells": [
    {
      "cell_type": "markdown",
      "metadata": {
        "id": "Lq4TdAbe5omd"
      },
      "source": [
        "#Edit dist"
      ]
    },
    {
      "cell_type": "code",
      "execution_count": 1,
      "metadata": {
        "colab": {
          "base_uri": "https://localhost:8080/"
        },
        "id": "IoU46DYvx-AC",
        "outputId": "01d6b05f-819b-4c6e-deaf-ee0596f29221"
      },
      "outputs": [
        {
          "output_type": "stream",
          "name": "stdout",
          "text": [
            "Edit distance between 'intention' and 'execution' is: 5\n"
          ]
        }
      ],
      "source": [
        "def edit_distance(word1, word2):\n",
        "    m = len(word1)\n",
        "    n = len(word2)\n",
        "\n",
        "    dp = [[0] * (n + 1) for _ in range(m + 1)]\n",
        "\n",
        "    for i in range(m + 1):\n",
        "        dp[i][0] = i\n",
        "\n",
        "    for j in range(n + 1):\n",
        "        dp[0][j] = j\n",
        "\n",
        "    for i in range(1, m + 1):\n",
        "        for j in range(1, n + 1):\n",
        "            if word1[i - 1] == word2[j - 1]:\n",
        "                dp[i][j] = dp[i - 1][j - 1]\n",
        "            else:\n",
        "                dp[i][j] = min(dp[i - 1][j - 1], dp[i - 1][j], dp[i][j - 1]) + 1\n",
        "\n",
        "    return dp[m][n]\n",
        "\n",
        "word1 = \"intention\"\n",
        "word2 = \"execution\"\n",
        "print(\"Edit distance between '{}' and '{}' is: {}\".format(word1, word2, edit_distance(word1, word2)))\n"
      ]
    },
    {
      "cell_type": "markdown",
      "metadata": {
        "id": "YU-qz_255aC6"
      },
      "source": [
        "edit dist is a way to measure how similar two strings are by counting the minimum number of operations needed to transform one string into the other. These operations can be insertions, deletions, or substitutions of individual characters.\n",
        "\n",
        "for example for hat and cat only the first letter needs to be changed. thus the edit dist is only 1"
      ]
    },
    {
      "cell_type": "markdown",
      "metadata": {
        "id": "g8jAqgx85r_9"
      },
      "source": [
        "#Poem"
      ]
    },
    {
      "cell_type": "code",
      "execution_count": 6,
      "metadata": {
        "colab": {
          "base_uri": "https://localhost:8080/"
        },
        "id": "5kSCPACl2Mt0",
        "outputId": "f03540f7-115a-4ed5-a292-b4cdd54e2373"
      },
      "outputs": [
        {
          "output_type": "stream",
          "name": "stdout",
          "text": [
            "Enter three keywords separated by commas (e.g., 'forest, elf, freedom'): elf, forest,freedom\n",
            "\n",
            "Generated Story:\n",
            "Long ago in the kingdom of elf, a forest set out on a quest to find freedom.\n",
            "\n",
            "Generated Poem:\n",
            "In the heart of elf,\n",
            "A forest silently weeps,\n",
            "Longing for freedom,\n",
            "Forever in dreams.\n"
          ]
        }
      ],
      "source": [
        "\n",
        "import random\n",
        "\n",
        "story_templates = [\n",
        "    \"Once upon a time in a land called {0}, there was a {1} who loved nothing more than {2}.\",\n",
        "    \"In the deep forest of {0}, lived a lonely {1} who always dreamed of {2}.\",\n",
        "    \"Long ago in the kingdom of {0}, a {1} set out on a quest to find {2}.\"\n",
        "]\n",
        "\n",
        "poem_templates = [\n",
        "    \"In the heart of {0},\\nA {1} silently weeps,\\nLonging for {2},\\nForever in dreams.\",\n",
        "    \"Ode to {0},\\nWhere {1}s roam,\\nSeeking {2},\\nTheir eternal home.\",\n",
        "    \"{0}, oh {0},\\nA land so fair,\\nA {1} seeks {2},\\nWith hope and prayer.\"\n",
        "]\n",
        "\n",
        "def create_story(keywords):\n",
        "  template = random.choice(story_templates)\n",
        "  return template.format(*keywords)\n",
        "\n",
        "def create_poem(keywords):\n",
        "  template = random.choice(poem_templates)\n",
        "  return template.format(*keywords)\n",
        "\n",
        "keywords = input(\"Enter three keywords separated by commas (e.g., 'forest, elf, freedom'): \").split(',')\n",
        "\n",
        "keywords = [keyword.strip() for keyword in keywords]\n",
        "\n",
        "story = create_story(keywords)\n",
        "poem = create_poem(keywords)\n",
        "\n",
        "print(\"\\nGenerated Story:\")\n",
        "print(story)\n",
        "print(\"\\nGenerated Poem:\")\n",
        "print(poem)"
      ]
    }
  ],
  "metadata": {
    "colab": {
      "provenance": []
    },
    "kernelspec": {
      "display_name": "Python 3",
      "name": "python3"
    },
    "language_info": {
      "codemirror_mode": {
        "name": "ipython",
        "version": 3
      },
      "file_extension": ".py",
      "mimetype": "text/x-python",
      "name": "python",
      "nbconvert_exporter": "python",
      "pygments_lexer": "ipython3",
      "version": "3.11.5"
    }
  },
  "nbformat": 4,
  "nbformat_minor": 0
}